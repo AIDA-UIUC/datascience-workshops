{
 "cells": [
  {
   "cell_type": "markdown",
   "metadata": {},
   "source": [
    "# AIDA Data Science Workshop #5\n",
    "\n",
    "Goal from now on: do an example with a toy dataset and show how one can use many different types of plots instead of focusing on the details of one library. There are too many different things to teach and it varies too much based on the task at hand. Therefore, instead of teaching, we'll be exploring a few different types of plots today using the plot.ly library and a few sample datasets in order to get you primed for whatever project you may be doing. If this works out better for the format of the workshop, please tell us through the comments in the sign-in sheet or tell us directly!\n",
    "[plotly link](https://plot.ly/python/)\n",
    "\n",
    "Hello my name is Shaw"
   ]
  },
  {
   "cell_type": "code",
   "execution_count": 3,
   "metadata": {},
   "outputs": [],
   "source": [
    "import pandas as pd"
   ]
  },
  {
   "cell_type": "code",
   "execution_count": 8,
   "metadata": {},
   "outputs": [],
   "source": [
    "perception = pd.read_csv(\"https://raw.githubusercontent.com/wadefagen/datasets/master/Perception-of-Probability-Words/survey-results.csv\")"
   ]
  },
  {
   "cell_type": "code",
   "execution_count": 10,
   "metadata": {},
   "outputs": [
    {
     "data": {
      "text/html": "<div>\n<style scoped>\n    .dataframe tbody tr th:only-of-type {\n        vertical-align: middle;\n    }\n\n    .dataframe tbody tr th {\n        vertical-align: top;\n    }\n\n    .dataframe thead th {\n        text-align: right;\n    }\n</style>\n<table border=\"1\" class=\"dataframe\">\n  <thead>\n    <tr style=\"text-align: right;\">\n      <th></th>\n      <th>\"Almost Certain\"</th>\n      <th>\"Highly Likely\"</th>\n      <th>\"Very Good Chance\"</th>\n      <th>\"Probable\"</th>\n      <th>\"Likely\"</th>\n      <th>\"We Believe\"</th>\n      <th>\"Probably\"</th>\n      <th>\"Better than Even\"</th>\n      <th>\"About Even\"</th>\n      <th>\"We Doubt\"</th>\n      <th>\"Improbable\"</th>\n      <th>\"Unlikely\"</th>\n      <th>\"Probably Not\"</th>\n      <th>\"Little Chance\"</th>\n      <th>\"Almost No Chance\"</th>\n      <th>\"Highly Unlikely\"</th>\n      <th>\"Chances are Slight\"</th>\n      <th>Your Highest Level of Education</th>\n      <th>Your Gender Identity</th>\n      <th>Age Range</th>\n    </tr>\n  </thead>\n  <tbody>\n    <tr>\n      <td>0</td>\n      <td>60.0</td>\n      <td>85</td>\n      <td>80.0</td>\n      <td>70</td>\n      <td>70</td>\n      <td>60.0</td>\n      <td>80</td>\n      <td>85</td>\n      <td>50</td>\n      <td>15</td>\n      <td>5</td>\n      <td>5</td>\n      <td>10</td>\n      <td>7.0</td>\n      <td>5.0</td>\n      <td>10.0</td>\n      <td>7.0</td>\n      <td>Completed an MS degree</td>\n      <td>Female</td>\n      <td>66-75</td>\n    </tr>\n    <tr>\n      <td>1</td>\n      <td>99.0</td>\n      <td>90</td>\n      <td>80.0</td>\n      <td>70</td>\n      <td>75</td>\n      <td>65.0</td>\n      <td>60</td>\n      <td>55</td>\n      <td>50</td>\n      <td>10</td>\n      <td>20</td>\n      <td>40</td>\n      <td>40</td>\n      <td>5.0</td>\n      <td>1.0</td>\n      <td>5.0</td>\n      <td>30.0</td>\n      <td>Currently pursuing an undergraduate degree</td>\n      <td>Female</td>\n      <td>18-25</td>\n    </tr>\n    <tr>\n      <td>2</td>\n      <td>90.0</td>\n      <td>90</td>\n      <td>85.0</td>\n      <td>75</td>\n      <td>75</td>\n      <td>80.0</td>\n      <td>65</td>\n      <td>60</td>\n      <td>50</td>\n      <td>15</td>\n      <td>25</td>\n      <td>25</td>\n      <td>80</td>\n      <td>10.0</td>\n      <td>1.0</td>\n      <td>5.0</td>\n      <td>10.0</td>\n      <td>Currently pursuing a PhD or terminal degree</td>\n      <td>Male</td>\n      <td>26-35</td>\n    </tr>\n    <tr>\n      <td>3</td>\n      <td>99.0</td>\n      <td>90</td>\n      <td>85.0</td>\n      <td>75</td>\n      <td>75</td>\n      <td>95.0</td>\n      <td>75</td>\n      <td>51</td>\n      <td>50</td>\n      <td>25</td>\n      <td>5</td>\n      <td>25</td>\n      <td>5</td>\n      <td>5.0</td>\n      <td>1.0</td>\n      <td>1.0</td>\n      <td>15.0</td>\n      <td>Currently pursuing a PhD or terminal degree</td>\n      <td>Female</td>\n      <td>26-35</td>\n    </tr>\n    <tr>\n      <td>4</td>\n      <td>100.0</td>\n      <td>85</td>\n      <td>85.0</td>\n      <td>50</td>\n      <td>70</td>\n      <td>70.0</td>\n      <td>75</td>\n      <td>60</td>\n      <td>50</td>\n      <td>25</td>\n      <td>5</td>\n      <td>20</td>\n      <td>25</td>\n      <td>15.0</td>\n      <td>5.0</td>\n      <td>10.0</td>\n      <td>10.0</td>\n      <td>Currently pursuing an undergraduate degree</td>\n      <td>Male</td>\n      <td>18-25</td>\n    </tr>\n    <tr>\n      <td>...</td>\n      <td>...</td>\n      <td>...</td>\n      <td>...</td>\n      <td>...</td>\n      <td>...</td>\n      <td>...</td>\n      <td>...</td>\n      <td>...</td>\n      <td>...</td>\n      <td>...</td>\n      <td>...</td>\n      <td>...</td>\n      <td>...</td>\n      <td>...</td>\n      <td>...</td>\n      <td>...</td>\n      <td>...</td>\n      <td>...</td>\n      <td>...</td>\n      <td>...</td>\n    </tr>\n    <tr>\n      <td>118</td>\n      <td>90.0</td>\n      <td>80</td>\n      <td>85.0</td>\n      <td>80</td>\n      <td>70</td>\n      <td>75.0</td>\n      <td>80</td>\n      <td>60</td>\n      <td>50</td>\n      <td>15</td>\n      <td>20</td>\n      <td>29</td>\n      <td>20</td>\n      <td>10.0</td>\n      <td>1.0</td>\n      <td>5.0</td>\n      <td>5.0</td>\n      <td>Currently pursuing an undergraduate degree</td>\n      <td>Male</td>\n      <td>18-25</td>\n    </tr>\n    <tr>\n      <td>119</td>\n      <td>100.0</td>\n      <td>98</td>\n      <td>85.0</td>\n      <td>90</td>\n      <td>75</td>\n      <td>70.0</td>\n      <td>85</td>\n      <td>51</td>\n      <td>50</td>\n      <td>15</td>\n      <td>5</td>\n      <td>25</td>\n      <td>15</td>\n      <td>2.0</td>\n      <td>0.0</td>\n      <td>2.0</td>\n      <td>10.0</td>\n      <td>Completed an undergraduate degree</td>\n      <td>Male</td>\n      <td>26-35</td>\n    </tr>\n    <tr>\n      <td>120</td>\n      <td>99.0</td>\n      <td>99</td>\n      <td>90.0</td>\n      <td>80</td>\n      <td>95</td>\n      <td>95.0</td>\n      <td>80</td>\n      <td>60</td>\n      <td>50</td>\n      <td>3</td>\n      <td>3</td>\n      <td>30</td>\n      <td>3</td>\n      <td>10.0</td>\n      <td>0.1</td>\n      <td>0.1</td>\n      <td>30.0</td>\n      <td>Currently pursuing an undergraduate degree</td>\n      <td>Male</td>\n      <td>18-25</td>\n    </tr>\n    <tr>\n      <td>121</td>\n      <td>95.0</td>\n      <td>90</td>\n      <td>90.0</td>\n      <td>70</td>\n      <td>65</td>\n      <td>85.0</td>\n      <td>70</td>\n      <td>60</td>\n      <td>60</td>\n      <td>55</td>\n      <td>8</td>\n      <td>30</td>\n      <td>10</td>\n      <td>5.0</td>\n      <td>1.0</td>\n      <td>10.0</td>\n      <td>5.0</td>\n      <td>Currently pursuing an undergraduate degree</td>\n      <td>Male</td>\n      <td>18-25</td>\n    </tr>\n    <tr>\n      <td>122</td>\n      <td>99.0</td>\n      <td>90</td>\n      <td>75.0</td>\n      <td>51</td>\n      <td>60</td>\n      <td>99.0</td>\n      <td>60</td>\n      <td>51</td>\n      <td>50</td>\n      <td>10</td>\n      <td>20</td>\n      <td>25</td>\n      <td>25</td>\n      <td>20.0</td>\n      <td>1.0</td>\n      <td>5.0</td>\n      <td>30.0</td>\n      <td>Currently pursuing an undergraduate degree</td>\n      <td>Male</td>\n      <td>18-25</td>\n    </tr>\n  </tbody>\n</table>\n<p>123 rows × 20 columns</p>\n</div>",
      "text/plain": "     \"Almost Certain\"  \"Highly Likely\"  \"Very Good Chance\"  \"Probable\"  \\\n0                60.0               85                80.0          70   \n1                99.0               90                80.0          70   \n2                90.0               90                85.0          75   \n3                99.0               90                85.0          75   \n4               100.0               85                85.0          50   \n..                ...              ...                 ...         ...   \n118              90.0               80                85.0          80   \n119             100.0               98                85.0          90   \n120              99.0               99                90.0          80   \n121              95.0               90                90.0          70   \n122              99.0               90                75.0          51   \n\n     \"Likely\"  \"We Believe\"  \"Probably\"  \"Better than Even\"  \"About Even\"  \\\n0          70          60.0          80                  85            50   \n1          75          65.0          60                  55            50   \n2          75          80.0          65                  60            50   \n3          75          95.0          75                  51            50   \n4          70          70.0          75                  60            50   \n..        ...           ...         ...                 ...           ...   \n118        70          75.0          80                  60            50   \n119        75          70.0          85                  51            50   \n120        95          95.0          80                  60            50   \n121        65          85.0          70                  60            60   \n122        60          99.0          60                  51            50   \n\n     \"We Doubt\"  \"Improbable\"  \"Unlikely\"  \"Probably Not\"  \"Little Chance\"  \\\n0            15             5           5              10              7.0   \n1            10            20          40              40              5.0   \n2            15            25          25              80             10.0   \n3            25             5          25               5              5.0   \n4            25             5          20              25             15.0   \n..          ...           ...         ...             ...              ...   \n118          15            20          29              20             10.0   \n119          15             5          25              15              2.0   \n120           3             3          30               3             10.0   \n121          55             8          30              10              5.0   \n122          10            20          25              25             20.0   \n\n     \"Almost No Chance\"  \"Highly Unlikely\"  \"Chances are Slight\"  \\\n0                   5.0               10.0                   7.0   \n1                   1.0                5.0                  30.0   \n2                   1.0                5.0                  10.0   \n3                   1.0                1.0                  15.0   \n4                   5.0               10.0                  10.0   \n..                  ...                ...                   ...   \n118                 1.0                5.0                   5.0   \n119                 0.0                2.0                  10.0   \n120                 0.1                0.1                  30.0   \n121                 1.0               10.0                   5.0   \n122                 1.0                5.0                  30.0   \n\n                 Your Highest Level of Education Your Gender Identity  \\\n0                         Completed an MS degree               Female   \n1     Currently pursuing an undergraduate degree               Female   \n2    Currently pursuing a PhD or terminal degree                 Male   \n3    Currently pursuing a PhD or terminal degree               Female   \n4     Currently pursuing an undergraduate degree                 Male   \n..                                           ...                  ...   \n118   Currently pursuing an undergraduate degree                 Male   \n119            Completed an undergraduate degree                 Male   \n120   Currently pursuing an undergraduate degree                 Male   \n121   Currently pursuing an undergraduate degree                 Male   \n122   Currently pursuing an undergraduate degree                 Male   \n\n    Age Range  \n0       66-75  \n1       18-25  \n2       26-35  \n3       26-35  \n4       18-25  \n..        ...  \n118     18-25  \n119     26-35  \n120     18-25  \n121     18-25  \n122     18-25  \n\n[123 rows x 20 columns]"
     },
     "execution_count": 10,
     "metadata": {},
     "output_type": "execute_result"
    }
   ],
   "source": [
    "perception"
   ]
  },
  {
   "cell_type": "code",
   "execution_count": 9,
   "metadata": {},
   "outputs": [],
   "source": [
    "gpa = pd.read_csv(\"https://github.com/wadefagen/datasets/raw/master/gpa/uiuc-gpa-dataset.csv\")"
   ]
  },
  {
   "cell_type": "code",
   "execution_count": 11,
   "metadata": {},
   "outputs": [
    {
     "data": {
      "text/html": "<div>\n<style scoped>\n    .dataframe tbody tr th:only-of-type {\n        vertical-align: middle;\n    }\n\n    .dataframe tbody tr th {\n        vertical-align: top;\n    }\n\n    .dataframe thead th {\n        text-align: right;\n    }\n</style>\n<table border=\"1\" class=\"dataframe\">\n  <thead>\n    <tr style=\"text-align: right;\">\n      <th></th>\n      <th>Year</th>\n      <th>Term</th>\n      <th>YearTerm</th>\n      <th>Subject</th>\n      <th>Number</th>\n      <th>Course Title</th>\n      <th>A+</th>\n      <th>A</th>\n      <th>A-</th>\n      <th>B+</th>\n      <th>...</th>\n      <th>B-</th>\n      <th>C+</th>\n      <th>C</th>\n      <th>C-</th>\n      <th>D+</th>\n      <th>D</th>\n      <th>D-</th>\n      <th>F</th>\n      <th>W</th>\n      <th>Primary Instructor</th>\n    </tr>\n  </thead>\n  <tbody>\n    <tr>\n      <td>0</td>\n      <td>2019</td>\n      <td>Spring</td>\n      <td>2019-sp</td>\n      <td>AAS</td>\n      <td>100</td>\n      <td>Intro Asian American Studies</td>\n      <td>2</td>\n      <td>13</td>\n      <td>4</td>\n      <td>3</td>\n      <td>...</td>\n      <td>2</td>\n      <td>0</td>\n      <td>3</td>\n      <td>1</td>\n      <td>0</td>\n      <td>0</td>\n      <td>0</td>\n      <td>2</td>\n      <td>0</td>\n      <td>Espiritu, Augusto F</td>\n    </tr>\n    <tr>\n      <td>1</td>\n      <td>2019</td>\n      <td>Spring</td>\n      <td>2019-sp</td>\n      <td>AAS</td>\n      <td>100</td>\n      <td>Intro Asian American Studies</td>\n      <td>1</td>\n      <td>5</td>\n      <td>9</td>\n      <td>1</td>\n      <td>...</td>\n      <td>1</td>\n      <td>0</td>\n      <td>0</td>\n      <td>1</td>\n      <td>0</td>\n      <td>0</td>\n      <td>0</td>\n      <td>1</td>\n      <td>0</td>\n      <td>Thomas, Merin A</td>\n    </tr>\n    <tr>\n      <td>2</td>\n      <td>2019</td>\n      <td>Spring</td>\n      <td>2019-sp</td>\n      <td>AAS</td>\n      <td>100</td>\n      <td>Intro Asian American Studies</td>\n      <td>0</td>\n      <td>7</td>\n      <td>9</td>\n      <td>3</td>\n      <td>...</td>\n      <td>3</td>\n      <td>0</td>\n      <td>0</td>\n      <td>0</td>\n      <td>0</td>\n      <td>0</td>\n      <td>0</td>\n      <td>2</td>\n      <td>0</td>\n      <td>Thomas, Merin A</td>\n    </tr>\n    <tr>\n      <td>3</td>\n      <td>2019</td>\n      <td>Spring</td>\n      <td>2019-sp</td>\n      <td>AAS</td>\n      <td>100</td>\n      <td>Intro Asian American Studies</td>\n      <td>0</td>\n      <td>8</td>\n      <td>7</td>\n      <td>1</td>\n      <td>...</td>\n      <td>5</td>\n      <td>1</td>\n      <td>0</td>\n      <td>1</td>\n      <td>1</td>\n      <td>0</td>\n      <td>0</td>\n      <td>0</td>\n      <td>1</td>\n      <td>Lee, Sang S</td>\n    </tr>\n    <tr>\n      <td>4</td>\n      <td>2019</td>\n      <td>Spring</td>\n      <td>2019-sp</td>\n      <td>AAS</td>\n      <td>100</td>\n      <td>Intro Asian American Studies</td>\n      <td>0</td>\n      <td>7</td>\n      <td>4</td>\n      <td>2</td>\n      <td>...</td>\n      <td>5</td>\n      <td>0</td>\n      <td>2</td>\n      <td>0</td>\n      <td>1</td>\n      <td>0</td>\n      <td>0</td>\n      <td>2</td>\n      <td>0</td>\n      <td>Lee, Sang S</td>\n    </tr>\n    <tr>\n      <td>...</td>\n      <td>...</td>\n      <td>...</td>\n      <td>...</td>\n      <td>...</td>\n      <td>...</td>\n      <td>...</td>\n      <td>...</td>\n      <td>...</td>\n      <td>...</td>\n      <td>...</td>\n      <td>...</td>\n      <td>...</td>\n      <td>...</td>\n      <td>...</td>\n      <td>...</td>\n      <td>...</td>\n      <td>...</td>\n      <td>...</td>\n      <td>...</td>\n      <td>...</td>\n      <td>...</td>\n    </tr>\n    <tr>\n      <td>48950</td>\n      <td>2010</td>\n      <td>Summer</td>\n      <td>2010-su</td>\n      <td>STAT</td>\n      <td>410</td>\n      <td>Statistics and Probability II</td>\n      <td>5</td>\n      <td>10</td>\n      <td>2</td>\n      <td>2</td>\n      <td>...</td>\n      <td>1</td>\n      <td>0</td>\n      <td>1</td>\n      <td>3</td>\n      <td>0</td>\n      <td>0</td>\n      <td>0</td>\n      <td>2</td>\n      <td>1</td>\n      <td>Stepanov, Alexei G</td>\n    </tr>\n    <tr>\n      <td>48951</td>\n      <td>2010</td>\n      <td>Summer</td>\n      <td>2010-su</td>\n      <td>STAT</td>\n      <td>440</td>\n      <td>Statistical Data Management</td>\n      <td>4</td>\n      <td>12</td>\n      <td>8</td>\n      <td>1</td>\n      <td>...</td>\n      <td>0</td>\n      <td>0</td>\n      <td>0</td>\n      <td>0</td>\n      <td>0</td>\n      <td>0</td>\n      <td>0</td>\n      <td>0</td>\n      <td>0</td>\n      <td>Unger, David</td>\n    </tr>\n    <tr>\n      <td>48952</td>\n      <td>2010</td>\n      <td>Summer</td>\n      <td>2010-su</td>\n      <td>TAM</td>\n      <td>212</td>\n      <td>Introductory Dynamics</td>\n      <td>0</td>\n      <td>1</td>\n      <td>3</td>\n      <td>2</td>\n      <td>...</td>\n      <td>7</td>\n      <td>5</td>\n      <td>1</td>\n      <td>1</td>\n      <td>0</td>\n      <td>2</td>\n      <td>0</td>\n      <td>1</td>\n      <td>0</td>\n      <td>Morgan, William T</td>\n    </tr>\n    <tr>\n      <td>48953</td>\n      <td>2010</td>\n      <td>Summer</td>\n      <td>2010-su</td>\n      <td>TAM</td>\n      <td>251</td>\n      <td>Introductory Solid Mechanics</td>\n      <td>1</td>\n      <td>2</td>\n      <td>2</td>\n      <td>1</td>\n      <td>...</td>\n      <td>0</td>\n      <td>3</td>\n      <td>3</td>\n      <td>2</td>\n      <td>0</td>\n      <td>0</td>\n      <td>1</td>\n      <td>1</td>\n      <td>0</td>\n      <td>Ott-Monsivais, Stephanie</td>\n    </tr>\n    <tr>\n      <td>48954</td>\n      <td>2010</td>\n      <td>Summer</td>\n      <td>2010-su</td>\n      <td>TAM</td>\n      <td>335</td>\n      <td>Introductory Fluid Mechanics</td>\n      <td>5</td>\n      <td>8</td>\n      <td>9</td>\n      <td>4</td>\n      <td>...</td>\n      <td>1</td>\n      <td>0</td>\n      <td>4</td>\n      <td>0</td>\n      <td>0</td>\n      <td>1</td>\n      <td>0</td>\n      <td>2</td>\n      <td>0</td>\n      <td>Keane, Richard D</td>\n    </tr>\n  </tbody>\n</table>\n<p>48955 rows × 21 columns</p>\n</div>",
      "text/plain": "       Year    Term YearTerm Subject  Number                   Course Title  \\\n0      2019  Spring  2019-sp     AAS     100   Intro Asian American Studies   \n1      2019  Spring  2019-sp     AAS     100   Intro Asian American Studies   \n2      2019  Spring  2019-sp     AAS     100   Intro Asian American Studies   \n3      2019  Spring  2019-sp     AAS     100   Intro Asian American Studies   \n4      2019  Spring  2019-sp     AAS     100   Intro Asian American Studies   \n...     ...     ...      ...     ...     ...                            ...   \n48950  2010  Summer  2010-su    STAT     410  Statistics and Probability II   \n48951  2010  Summer  2010-su    STAT     440    Statistical Data Management   \n48952  2010  Summer  2010-su     TAM     212          Introductory Dynamics   \n48953  2010  Summer  2010-su     TAM     251   Introductory Solid Mechanics   \n48954  2010  Summer  2010-su     TAM     335   Introductory Fluid Mechanics   \n\n       A+   A  A-  B+  ...  B-  C+  C  C-  D+  D  D-  F  W  \\\n0       2  13   4   3  ...   2   0  3   1   0  0   0  2  0   \n1       1   5   9   1  ...   1   0  0   1   0  0   0  1  0   \n2       0   7   9   3  ...   3   0  0   0   0  0   0  2  0   \n3       0   8   7   1  ...   5   1  0   1   1  0   0  0  1   \n4       0   7   4   2  ...   5   0  2   0   1  0   0  2  0   \n...    ..  ..  ..  ..  ...  ..  .. ..  ..  .. ..  .. .. ..   \n48950   5  10   2   2  ...   1   0  1   3   0  0   0  2  1   \n48951   4  12   8   1  ...   0   0  0   0   0  0   0  0  0   \n48952   0   1   3   2  ...   7   5  1   1   0  2   0  1  0   \n48953   1   2   2   1  ...   0   3  3   2   0  0   1  1  0   \n48954   5   8   9   4  ...   1   0  4   0   0  1   0  2  0   \n\n             Primary Instructor  \n0           Espiritu, Augusto F  \n1               Thomas, Merin A  \n2               Thomas, Merin A  \n3                   Lee, Sang S  \n4                   Lee, Sang S  \n...                         ...  \n48950        Stepanov, Alexei G  \n48951              Unger, David  \n48952         Morgan, William T  \n48953  Ott-Monsivais, Stephanie  \n48954          Keane, Richard D  \n\n[48955 rows x 21 columns]"
     },
     "execution_count": 11,
     "metadata": {},
     "output_type": "execute_result"
    }
   ],
   "source": [
    "gpa"
   ]
  }
 ],
 "metadata": {
  "kernelspec": {
   "display_name": "Python 3.7.4 64-bit ('base': conda)",
   "language": "python",
   "name": "python37464bitbaseconda6d8c00565fc94aa391f8c0dd5746adb2"
  },
  "language_info": {
   "codemirror_mode": {
    "name": "ipython",
    "version": 3
   },
   "file_extension": ".py",
   "mimetype": "text/x-python",
   "name": "python",
   "nbconvert_exporter": "python",
   "pygments_lexer": "ipython3",
   "version": "3.7.4-final"
  }
 },
 "nbformat": 4,
 "nbformat_minor": 4
}    }
   ],
   "source": [
    "perception"
   ]
  },
  {
   "cell_type": "code",
   "execution_count": 9,
   "metadata": {},
   "outputs": [],
   "source": [
    "gpa = pd.read_csv(\"https://github.com/wadefagen/datasets/raw/master/gpa/uiuc-gpa-dataset.csv\")"
   ]
  },
  {
   "cell_type": "code",
   "execution_count": 11,
   "metadata": {},
   "outputs": [
    {
     "data": {
      "text/html": "<div>\n<style scoped>\n    .dataframe tbody tr th:only-of-type {\n        vertical-align: middle;\n    }\n\n    .dataframe tbody tr th {\n        vertical-align: top;\n    }\n\n    .dataframe thead th {\n        text-align: right;\n    }\n</style>\n<table border=\"1\" class=\"dataframe\">\n  <thead>\n    <tr style=\"text-align: right;\">\n      <th></th>\n      <th>Year</th>\n      <th>Term</th>\n      <th>YearTerm</th>\n      <th>Subject</th>\n      <th>Number</th>\n      <th>Course Title</th>\n      <th>A+</th>\n      <th>A</th>\n      <th>A-</th>\n      <th>B+</th>\n      <th>...</th>\n      <th>B-</th>\n      <th>C+</th>\n      <th>C</th>\n      <th>C-</th>\n      <th>D+</th>\n      <th>D</th>\n      <th>D-</th>\n      <th>F</th>\n      <th>W</th>\n      <th>Primary Instructor</th>\n    </tr>\n  </thead>\n  <tbody>\n    <tr>\n      <td>0</td>\n      <td>2019</td>\n      <td>Spring</td>\n      <td>2019-sp</td>\n      <td>AAS</td>\n      <td>100</td>\n      <td>Intro Asian American Studies</td>\n      <td>2</td>\n      <td>13</td>\n      <td>4</td>\n      <td>3</td>\n      <td>...</td>\n      <td>2</td>\n      <td>0</td>\n      <td>3</td>\n      <td>1</td>\n      <td>0</td>\n      <td>0</td>\n      <td>0</td>\n      <td>2</td>\n      <td>0</td>\n      <td>Espiritu, Augusto F</td>\n    </tr>\n    <tr>\n      <td>1</td>\n      <td>2019</td>\n      <td>Spring</td>\n      <td>2019-sp</td>\n      <td>AAS</td>\n      <td>100</td>\n      <td>Intro Asian American Studies</td>\n      <td>1</td>\n      <td>5</td>\n      <td>9</td>\n      <td>1</td>\n      <td>...</td>\n      <td>1</td>\n      <td>0</td>\n      <td>0</td>\n      <td>1</td>\n      <td>0</td>\n      <td>0</td>\n      <td>0</td>\n      <td>1</td>\n      <td>0</td>\n      <td>Thomas, Merin A</td>\n    </tr>\n    <tr>\n      <td>2</td>\n      <td>2019</td>\n      <td>Spring</td>\n      <td>2019-sp</td>\n      <td>AAS</td>\n      <td>100</td>\n      <td>Intro Asian American Studies</td>\n      <td>0</td>\n      <td>7</td>\n      <td>9</td>\n      <td>3</td>\n      <td>...</td>\n      <td>3</td>\n      <td>0</td>\n      <td>0</td>\n      <td>0</td>\n      <td>0</td>\n      <td>0</td>\n      <td>0</td>\n      <td>2</td>\n      <td>0</td>\n      <td>Thomas, Merin A</td>\n    </tr>\n    <tr>\n      <td>3</td>\n      <td>2019</td>\n      <td>Spring</td>\n      <td>2019-sp</td>\n      <td>AAS</td>\n      <td>100</td>\n      <td>Intro Asian American Studies</td>\n      <td>0</td>\n      <td>8</td>\n      <td>7</td>\n      <td>1</td>\n      <td>...</td>\n      <td>5</td>\n      <td>1</td>\n      <td>0</td>\n      <td>1</td>\n      <td>1</td>\n      <td>0</td>\n      <td>0</td>\n      <td>0</td>\n      <td>1</td>\n      <td>Lee, Sang S</td>\n    </tr>\n    <tr>\n      <td>4</td>\n      <td>2019</td>\n      <td>Spring</td>\n      <td>2019-sp</td>\n      <td>AAS</td>\n      <td>100</td>\n      <td>Intro Asian American Studies</td>\n      <td>0</td>\n      <td>7</td>\n      <td>4</td>\n      <td>2</td>\n      <td>...</td>\n      <td>5</td>\n      <td>0</td>\n      <td>2</td>\n      <td>0</td>\n      <td>1</td>\n      <td>0</td>\n      <td>0</td>\n      <td>2</td>\n      <td>0</td>\n      <td>Lee, Sang S</td>\n    </tr>\n    <tr>\n      <td>...</td>\n      <td>...</td>\n      <td>...</td>\n      <td>...</td>\n      <td>...</td>\n      <td>...</td>\n      <td>...</td>\n      <td>...</td>\n      <td>...</td>\n      <td>...</td>\n      <td>...</td>\n      <td>...</td>\n      <td>...</td>\n      <td>...</td>\n      <td>...</td>\n      <td>...</td>\n      <td>...</td>\n      <td>...</td>\n      <td>...</td>\n      <td>...</td>\n      <td>...</td>\n      <td>...</td>\n    </tr>\n    <tr>\n      <td>48950</td>\n      <td>2010</td>\n      <td>Summer</td>\n      <td>2010-su</td>\n      <td>STAT</td>\n      <td>410</td>\n      <td>Statistics and Probability II</td>\n      <td>5</td>\n      <td>10</td>\n      <td>2</td>\n      <td>2</td>\n      <td>...</td>\n      <td>1</td>\n      <td>0</td>\n      <td>1</td>\n      <td>3</td>\n      <td>0</td>\n      <td>0</td>\n      <td>0</td>\n      <td>2</td>\n      <td>1</td>\n      <td>Stepanov, Alexei G</td>\n    </tr>\n    <tr>\n      <td>48951</td>\n      <td>2010</td>\n      <td>Summer</td>\n      <td>2010-su</td>\n      <td>STAT</td>\n      <td>440</td>\n      <td>Statistical Data Management</td>\n      <td>4</td>\n      <td>12</td>\n      <td>8</td>\n      <td>1</td>\n      <td>...</td>\n      <td>0</td>\n      <td>0</td>\n      <td>0</td>\n      <td>0</td>\n      <td>0</td>\n      <td>0</td>\n      <td>0</td>\n      <td>0</td>\n      <td>0</td>\n      <td>Unger, David</td>\n    </tr>\n    <tr>\n      <td>48952</td>\n      <td>2010</td>\n      <td>Summer</td>\n      <td>2010-su</td>\n      <td>TAM</td>\n      <td>212</td>\n      <td>Introductory Dynamics</td>\n      <td>0</td>\n      <td>1</td>\n      <td>3</td>\n      <td>2</td>\n      <td>...</td>\n      <td>7</td>\n      <td>5</td>\n      <td>1</td>\n      <td>1</td>\n      <td>0</td>\n      <td>2</td>\n      <td>0</td>\n      <td>1</td>\n      <td>0</td>\n      <td>Morgan, William T</td>\n    </tr>\n    <tr>\n      <td>48953</td>\n      <td>2010</td>\n      <td>Summer</td>\n      <td>2010-su</td>\n      <td>TAM</td>\n      <td>251</td>\n      <td>Introductory Solid Mechanics</td>\n      <td>1</td>\n      <td>2</td>\n      <td>2</td>\n      <td>1</td>\n      <td>...</td>\n      <td>0</td>\n      <td>3</td>\n      <td>3</td>\n      <td>2</td>\n      <td>0</td>\n      <td>0</td>\n      <td>1</td>\n      <td>1</td>\n      <td>0</td>\n      <td>Ott-Monsivais, Stephanie</td>\n    </tr>\n    <tr>\n      <td>48954</td>\n      <td>2010</td>\n      <td>Summer</td>\n      <td>2010-su</td>\n      <td>TAM</td>\n      <td>335</td>\n      <td>Introductory Fluid Mechanics</td>\n      <td>5</td>\n      <td>8</td>\n      <td>9</td>\n      <td>4</td>\n      <td>...</td>\n      <td>1</td>\n      <td>0</td>\n      <td>4</td>\n      <td>0</td>\n      <td>0</td>\n      <td>1</td>\n      <td>0</td>\n      <td>2</td>\n      <td>0</td>\n      <td>Keane, Richard D</td>\n    </tr>\n  </tbody>\n</table>\n<p>48955 rows × 21 columns</p>\n</div>",
      "text/plain": "       Year    Term YearTerm Subject  Number                   Course Title  \\\n0      2019  Spring  2019-sp     AAS     100   Intro Asian American Studies   \n1      2019  Spring  2019-sp     AAS     100   Intro Asian American Studies   \n2      2019  Spring  2019-sp     AAS     100   Intro Asian American Studies   \n3      2019  Spring  2019-sp     AAS     100   Intro Asian American Studies   \n4      2019  Spring  2019-sp     AAS     100   Intro Asian American Studies   \n...     ...     ...      ...     ...     ...                            ...   \n48950  2010  Summer  2010-su    STAT     410  Statistics and Probability II   \n48951  2010  Summer  2010-su    STAT     440    Statistical Data Management   \n48952  2010  Summer  2010-su     TAM     212          Introductory Dynamics   \n48953  2010  Summer  2010-su     TAM     251   Introductory Solid Mechanics   \n48954  2010  Summer  2010-su     TAM     335   Introductory Fluid Mechanics   \n\n       A+   A  A-  B+  ...  B-  C+  C  C-  D+  D  D-  F  W  \\\n0       2  13   4   3  ...   2   0  3   1   0  0   0  2  0   \n1       1   5   9   1  ...   1   0  0   1   0  0   0  1  0   \n2       0   7   9   3  ...   3   0  0   0   0  0   0  2  0   \n3       0   8   7   1  ...   5   1  0   1   1  0   0  0  1   \n4       0   7   4   2  ...   5   0  2   0   1  0   0  2  0   \n...    ..  ..  ..  ..  ...  ..  .. ..  ..  .. ..  .. .. ..   \n48950   5  10   2   2  ...   1   0  1   3   0  0   0  2  1   \n48951   4  12   8   1  ...   0   0  0   0   0  0   0  0  0   \n48952   0   1   3   2  ...   7   5  1   1   0  2   0  1  0   \n48953   1   2   2   1  ...   0   3  3   2   0  0   1  1  0   \n48954   5   8   9   4  ...   1   0  4   0   0  1   0  2  0   \n\n             Primary Instructor  \n0           Espiritu, Augusto F  \n1               Thomas, Merin A  \n2               Thomas, Merin A  \n3                   Lee, Sang S  \n4                   Lee, Sang S  \n...                         ...  \n48950        Stepanov, Alexei G  \n48951              Unger, David  \n48952         Morgan, William T  \n48953  Ott-Monsivais, Stephanie  \n48954          Keane, Richard D  \n\n[48955 rows x 21 columns]"
     },
     "execution_count": 11,
     "metadata": {},
     "output_type": "execute_result"
    }
   ],
   "source": [
    "gpa"
   ]
  }
 ],
 "metadata": {
  "kernelspec": {
   "display_name": "Python 3.7.4 64-bit ('base': conda)",
   "language": "python",
   "name": "python37464bitbaseconda6d8c00565fc94aa391f8c0dd5746adb2"
  },
  "language_info": {
   "codemirror_mode": {
    "name": "ipython",
    "version": 3
   },
   "file_extension": ".py",
   "mimetype": "text/x-python",
   "name": "python",
   "nbconvert_exporter": "python",
   "pygments_lexer": "ipython3",
   "version": "3.7.4-final"
  }
 },
 "nbformat": 4,
 "nbformat_minor": 4
}