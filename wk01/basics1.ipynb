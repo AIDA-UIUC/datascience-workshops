{
  "nbformat": 4,
  "nbformat_minor": 0,
  "metadata": {
    "kernelspec": {
      "display_name": "Python 3.7.3",
      "language": "python",
      "name": "python3.7.3"
    },
    "language_info": {
      "codemirror_mode": {
        "name": "ipython",
        "version": 3
      },
      "file_extension": ".py",
      "mimetype": "text/x-python",
      "name": "python",
      "nbconvert_exporter": "python",
      "pygments_lexer": "ipython3",
      "version": "3.7.6"
    },
    "colab": {
      "name": "basics1.ipynb",
      "provenance": [],
      "collapsed_sections": []
    }
  },
  "cells": [
    {
      "cell_type": "markdown",
      "metadata": {
        "id": "kiRveaAvwqUi",
        "colab_type": "text"
      },
      "source": [
        "# AIDA Data Science Workshop #1\n",
        "\n",
        "Adapted from [ADSA SP19 Python Basics Workshop](https://github.com/ADSA-UIUC/BeginnerWorkshopsSP19/blob/master/week_2_intro_workshop/week_2_intro_completed.ipynb)\n",
        "\n",
        "### Sign in at [this link](https://docs.google.com/forms/d/e/1FAIpQLScktv5OPHWlV6_DfurUjUXowi_NAg9Uq-YJB6s5u7CJgKQPaQ/viewform?usp=sf_link)\n",
        "\n",
        "## Table of Contents\n",
        "- [Welcome to programming](#welcome)\n",
        "- [Python the programming language](#python)\n",
        "- [Where do I program?](#where)\n",
        "- [Variables, what they are, declaration, types](#variables)\n",
        "- [Sidenote: printing](#printing)\n",
        "- [Program control flow](#controlflow)\n",
        "  - [If-else conditions](#ifelse)\n",
        "  - [The while loop](#while)\n",
        "  - [The for loop](#for)\n",
        "- [Functions](#functions)\n",
        "  - [Anatomy of a function](#anatomy)\n",
        "  - [`return` keyword](#return)\n",
        "  - [Calling functions](#calling)\n",
        "- [codingat.com problem(s)](#codingbat)\n",
        "- [Resources](#resources)"
      ]
    },
    {
      "cell_type": "markdown",
      "metadata": {
        "id": "rTQOzzc_wqUw",
        "colab_type": "text"
      },
      "source": [
        "## Welcome to Programming (and Data Science)! <a name=\"welcome\"></a>\n",
        "We're sure you already know about all of the hype around programming, computing, and data science, so we'll keep it short. Everything nowadays involves computing, and learning about how to control machines (either on a lower level through manipulating bits or on a higher level through machine learning) is all the hype. We'll be teaching a programming language called Python, one of the most highly used languages today to program!"
      ]
    },
    {
      "cell_type": "markdown",
      "metadata": {
        "id": "UJK9z76_wqU9",
        "colab_type": "text"
      },
      "source": [
        "## Python the Programming Language <a name=\"python\"></a>\n",
        "Python is a general purpose programming language created in the late 1980s, and named after Monty Python, that’s used by millions of people to do things from testing microchips at Intel, to powering Instagram, to building video games with the PyGame library. It’s small, very closely resembles the English language, and has hundreds of existing third-party libraries. Some of these libraries are scientific and numeric computing libraries which can be used to analyze large amounts of data!   \n",
        "\n",
        "We'll be using Python specifically for its ease of use (and teaching), while also providing a lot of functionality right out of the box!"
      ]
    },
    {
      "cell_type": "markdown",
      "metadata": {
        "id": "639PDeIgwqVH",
        "colab_type": "text"
      },
      "source": [
        "## Where do I program? <a name=\"where\"></a>\n",
        "So now that we've gotten the hype out of the way, let's start learning! But where do we begin?  \n",
        "\n",
        "This file will exist as a quick way to start programming, but we'll teach you (next week) about ways to create your own python files to run on your own computer (and not just in this file)! For now, writing code within any cell that looks like code could go in it and pressing the \"play\" button (if you can't find it, ask around) will cause an output to show up right below it.  \n",
        "\n",
        "Try clicking into the cell right below and pressing the play button to see what happens (we'll explain what `print` does in a bit)!"
      ]
    },
    {
      "cell_type": "code",
      "metadata": {
        "id": "isj__6k_wqVJ",
        "colab_type": "code",
        "outputId": "d87aa0c1-d600-4b05-93d6-725f981e0e93",
        "colab": {
          "base_uri": "https://localhost:8080/",
          "height": 34
        }
      },
      "source": [
        "print(\"hi\")"
      ],
      "execution_count": 0,
      "outputs": [
        {
          "output_type": "stream",
          "text": [
            "hi\n"
          ],
          "name": "stdout"
        }
      ]
    },
    {
      "cell_type": "markdown",
      "metadata": {
        "id": "uH8stwwDwqVR",
        "colab_type": "text"
      },
      "source": [
        "## Variables <a name=\"variables\"></a>\n",
        "Here's our first programming concept! We can store data within \"variables.\" These are basically words that you can use in place of some piece of data (same as in math).  \n",
        "\n",
        "Below you can see the declaration of a simple variable called `x` that will be set to the value `5`. You can also see that running this line of code doesn't output anything. This is because this storing operation doesn't output anything."
      ]
    },
    {
      "cell_type": "code",
      "metadata": {
        "id": "jNGSNaj4wqVS",
        "colab_type": "code",
        "colab": {}
      },
      "source": [
        "x = 5"
      ],
      "execution_count": 0,
      "outputs": []
    },
    {
      "cell_type": "markdown",
      "metadata": {
        "id": "z_CuVOOGwqVY",
        "colab_type": "text"
      },
      "source": [
        "Try it yourself! (The green text is called a \"comment,\" and as you might have guessed, it just gives the programmer a way to know what the piece of code does. You can write a comment by typing the pound character then your comment.)"
      ]
    },
    {
      "cell_type": "code",
      "metadata": {
        "id": "QbdAjsnrwqVZ",
        "colab_type": "code",
        "outputId": "26a0e9eb-7038-426f-e8d2-cb4125ef1718",
        "colab": {
          "base_uri": "https://localhost:8080/",
          "height": 51
        }
      },
      "source": [
        "# type your code in this cell on the next line!\n",
        "y = \"hello\"\n",
        "print(y)\n",
        "y = 2\n",
        "print(y)"
      ],
      "execution_count": 0,
      "outputs": [
        {
          "output_type": "stream",
          "text": [
            "hello\n",
            "2\n"
          ],
          "name": "stdout"
        }
      ]
    },
    {
      "cell_type": "markdown",
      "metadata": {
        "id": "npBxxk35wqVd",
        "colab_type": "text"
      },
      "source": [
        "### Types of Variables\n",
        "There are many different types of variables. They show what kinds of data we can store. What we saw earlier was an `int`, or an integer. However, there are other types as well:\n",
        "* a `int` - stores only integers\n",
        "* a `string` - stores text data\n",
        "* a `float` - stores numbers with decimals\n",
        "* a `bool` - stores a `True` or `False` value"
      ]
    },
    {
      "cell_type": "code",
      "metadata": {
        "id": "0SE9_ZqzwqVf",
        "colab_type": "code",
        "outputId": "e27b6518-077e-4acd-ddf4-d178bc4637d0",
        "colab": {
          "base_uri": "https://localhost:8080/",
          "height": 34
        }
      },
      "source": [
        "x = 5        # int\n",
        "s = \"hello\"  # string\n",
        "f = 4.5      # float\n",
        "b = True     # bool\n",
        "b = False\n",
        "\n",
        "\n",
        "hello_world = 'hello world'\n",
        "print(hello_world)"
      ],
      "execution_count": 0,
      "outputs": [
        {
          "output_type": "stream",
          "text": [
            "hello world\n"
          ],
          "name": "stdout"
        }
      ]
    },
    {
      "cell_type": "markdown",
      "metadata": {
        "id": "d_-Nima6wqVj",
        "colab_type": "text"
      },
      "source": [
        "Note that variables can be named anything you want (with the exception of certain characters and spaces)!  \n",
        "Here are some examples:\n",
        "\n",
        "|okay variable names    | not okay variable names              |\n",
        "|:--                    |:--                                   |\n",
        "|thisIsAVariableName    |this is a variable name (has spaces)  |\n",
        "|thisisavariablename    |1variable (has number at beginning)   |\n",
        "|this_is_a_variable_name|this (special reserved word)          |\n",
        "\n",
        "Here is a [list of reserved words](https://www.programiz.com/python-programming/keywords-identifier) that you can't use as variable names."
      ]
    },
    {
      "cell_type": "markdown",
      "metadata": {
        "id": "eWshZSnnwqVk",
        "colab_type": "text"
      },
      "source": [
        "## Sidenote: printing <a name=\"printing\"></a>\n",
        "We can \"print\" things to the screen to show what the value inside a variable is, along with any helpful commentary. We can do this through the `print` function. This means that you can do so by typing `print`, then `(` (open parenthesis), then whatever you want to print, then `)` (close parenthesis)."
      ]
    },
    {
      "cell_type": "code",
      "metadata": {
        "id": "7lSfzoScwqVl",
        "colab_type": "code",
        "outputId": "0e360a0a-82f6-4f14-d580-41d1d207a29e",
        "colab": {
          "base_uri": "https://localhost:8080/",
          "height": 51
        }
      },
      "source": [
        "print(\"hi\")  # note that you have to use quotes (either single or double) to print out text\n",
        "print(x)"
      ],
      "execution_count": 0,
      "outputs": [
        {
          "output_type": "stream",
          "text": [
            "hi\n",
            "5\n"
          ],
          "name": "stdout"
        }
      ]
    },
    {
      "cell_type": "markdown",
      "metadata": {
        "id": "0RL2CIWVwqVo",
        "colab_type": "text"
      },
      "source": [
        "## Programming Control Flow <a name=\"controlflow\"></a>\n",
        "Let's get into some longer programs now. We call what the program executes and in what order the \"control flow\" of the program. This means that in a longer program, we can decide exactly what happens and when. There are primarily two different structures that we will learn about that facilitate how a program decides what to execute. Lots of words, so let's look at an example."
      ]
    },
    {
      "cell_type": "code",
      "metadata": {
        "id": "rByPnY77wqVp",
        "colab_type": "code",
        "outputId": "5d1294ea-bbb0-4734-f817-72bc26e10ca1",
        "colab": {
          "base_uri": "https://localhost:8080/",
          "height": 34
        }
      },
      "source": [
        "x = 5                             # variable declaration\n",
        "y = x + 6                         # declaring another variable using x (+, -, * (times), / (divide) can be used)\n",
        "if x > y:                         # the 'if' condition checks if x is greater than y\n",
        "    print(\"x is greater than y\")  #     if the result of the condition is true, then we go into this block\n",
        "else:                             # if the condition is not true for any reason\n",
        "    print(\"y is greater than x\")  #     we go into this block"
      ],
      "execution_count": 0,
      "outputs": [
        {
          "output_type": "stream",
          "text": [
            "y is greater than x\n"
          ],
          "name": "stdout"
        }
      ]
    },
    {
      "cell_type": "markdown",
      "metadata": {
        "id": "uVLsa0hHwqVs",
        "colab_type": "text"
      },
      "source": [
        "### The `if-else` statement <a name=\"ifelse\"></a>\n",
        "This statement is used to check if something is true, just as you might expect. The syntax, as you saw above, is:\n",
        "```\n",
        "if <condition>:\n",
        "    <thing to do if condition is true>\n",
        "else:\n",
        "    <thing to do if condition is not true>\n",
        "```\n",
        "(don't forget the colon after condition and after else!)"
      ]
    },
    {
      "cell_type": "code",
      "metadata": {
        "id": "bOlYZwfBwqVt",
        "colab_type": "code",
        "outputId": "9eb4aead-3a03-4b91-c847-59d71a9d58f6",
        "colab": {
          "base_uri": "https://localhost:8080/",
          "height": 130
        }
      },
      "source": [
        "# try rewriting the cell from above, and try messing with the numbers! either erase this line or start on the next line\n",
        "x = 5\n",
        "y = 2\n",
        "\n",
        "if x != y:\n",
        "    print(x)\n",
        "    print('hello')\n",
        "else:\n",
        "    print(y)\n",
        "\n",
        "print('outside of block')\n",
        "print(3)\n"
      ],
      "execution_count": 0,
      "outputs": [
        {
          "output_type": "error",
          "ename": "IndentationError",
          "evalue": "ignored",
          "traceback": [
            "\u001b[0;36m  File \u001b[0;32m\"<ipython-input-10-5349d62084ce>\"\u001b[0;36m, line \u001b[0;32m11\u001b[0m\n\u001b[0;31m    print(3)\u001b[0m\n\u001b[0m    ^\u001b[0m\n\u001b[0;31mIndentationError\u001b[0m\u001b[0;31m:\u001b[0m unexpected indent\n"
          ]
        }
      ]
    },
    {
      "cell_type": "markdown",
      "metadata": {
        "id": "qon75r0hwqVx",
        "colab_type": "text"
      },
      "source": [
        "### The `while` loop <a name=\"while\"></a>\n",
        "This statement is used to repeatedly loop until a specific condition is met. The syntax looks like this:\n",
        "```\n",
        "while <condition>:\n",
        "    <thing to do if condition is true>\n",
        "```"
      ]
    },
    {
      "cell_type": "code",
      "metadata": {
        "id": "mW3Ecg7MwqVy",
        "colab_type": "code",
        "outputId": "b0baeb80-6add-498c-936f-41cbf3992ac5",
        "colab": {
          "base_uri": "https://localhost:8080/",
          "height": 216
        }
      },
      "source": [
        "x = 5                # variable declaration\n",
        "while x < 10:        # check the value of x\n",
        "    x = x + 1        # update the value of x if the condition is true\n",
        "    print(\"inside while: \" + x)\n",
        "print(x)             # once the loop ends and the condition is not true anymore, the next line of code executes"
      ],
      "execution_count": 0,
      "outputs": [
        {
          "output_type": "error",
          "ename": "TypeError",
          "evalue": "ignored",
          "traceback": [
            "\u001b[0;31m---------------------------------------------------------------------------\u001b[0m",
            "\u001b[0;31mTypeError\u001b[0m                                 Traceback (most recent call last)",
            "\u001b[0;32m<ipython-input-14-60252e598ed1>\u001b[0m in \u001b[0;36m<module>\u001b[0;34m()\u001b[0m\n\u001b[1;32m      2\u001b[0m \u001b[0;32mwhile\u001b[0m \u001b[0mx\u001b[0m \u001b[0;34m<\u001b[0m \u001b[0;36m10\u001b[0m\u001b[0;34m:\u001b[0m        \u001b[0;31m# check the value of x\u001b[0m\u001b[0;34m\u001b[0m\u001b[0;34m\u001b[0m\u001b[0m\n\u001b[1;32m      3\u001b[0m     \u001b[0mx\u001b[0m \u001b[0;34m=\u001b[0m \u001b[0mx\u001b[0m \u001b[0;34m+\u001b[0m \u001b[0;36m1\u001b[0m        \u001b[0;31m# update the value of x if the condition is true\u001b[0m\u001b[0;34m\u001b[0m\u001b[0;34m\u001b[0m\u001b[0m\n\u001b[0;32m----> 4\u001b[0;31m     \u001b[0mprint\u001b[0m\u001b[0;34m(\u001b[0m\u001b[0;34m\"inside while: \"\u001b[0m \u001b[0;34m+\u001b[0m \u001b[0mx\u001b[0m\u001b[0;34m)\u001b[0m\u001b[0;34m\u001b[0m\u001b[0;34m\u001b[0m\u001b[0m\n\u001b[0m\u001b[1;32m      5\u001b[0m \u001b[0mprint\u001b[0m\u001b[0;34m(\u001b[0m\u001b[0mx\u001b[0m\u001b[0;34m)\u001b[0m             \u001b[0;31m# once the loop ends and the condition is not true anymore, the next line of code executes\u001b[0m\u001b[0;34m\u001b[0m\u001b[0;34m\u001b[0m\u001b[0m\n",
            "\u001b[0;31mTypeError\u001b[0m: must be str, not int"
          ]
        }
      ]
    },
    {
      "cell_type": "markdown",
      "metadata": {
        "id": "HkHVgMT4wqV1",
        "colab_type": "text"
      },
      "source": [
        "Think through the last piece of code, and see if you understand it! If you want, rewrite the code above and mess around with the numbers again."
      ]
    },
    {
      "cell_type": "code",
      "metadata": {
        "id": "D-RzTfPwwqV2",
        "colab_type": "code",
        "colab": {}
      },
      "source": [
        "# try rewriting the code from above!\n"
      ],
      "execution_count": 0,
      "outputs": []
    },
    {
      "cell_type": "markdown",
      "metadata": {
        "id": "Mg82p-cjwqV4",
        "colab_type": "text"
      },
      "source": [
        "### The `for` loop <a name=\"for\"></a>\n",
        "There is another piece of code that we can use to loop, called the \"for loop\". To understand the uses of this though, we need to look at another type of data: the `list`.  \n",
        "\n",
        "As you might think, a `list` is simply a collection of objects, such as ints or strings. Here is an example of a list:\n",
        "```\n",
        "people_to_contact = [\"Joe\", \"Murphy\", \"Daniel\"]\n",
        "```\n",
        "Here we can see that this is defined by the use of the square brackets `[` and `]`.  \n",
        "\n",
        "Now we can take a look at a `for` loop. If we wanted to have a system to print out the name of each person to contact, the best way to do so would be like this:"
      ]
    },
    {
      "cell_type": "code",
      "metadata": {
        "id": "YkVKoUbTwqV5",
        "colab_type": "code",
        "outputId": "956e4ab8-f1e8-4989-9381-b7f070372c04",
        "colab": {
          "base_uri": "https://localhost:8080/",
          "height": 68
        }
      },
      "source": [
        "people_to_contact = [\"Joe\", \"Murphy\", \"Daniel\"]\n",
        "for person in people_to_contact:\n",
        "    print(person)"
      ],
      "execution_count": 0,
      "outputs": [
        {
          "output_type": "stream",
          "text": [
            "Joe\n",
            "Murphy\n",
            "Daniel\n"
          ],
          "name": "stdout"
        }
      ]
    },
    {
      "cell_type": "markdown",
      "metadata": {
        "id": "QbLtWpZCwqV8",
        "colab_type": "text"
      },
      "source": [
        "In this loop, what is happening is that the variable `person` is being reassigned to each new person within the list that we defined earlier. So if we wrote out what is happening, it would look like this:\n",
        "```\n",
        "person = \"Joe\"\n",
        "print(person)\n",
        "person = \"Murphy\"\n",
        "print(person)\n",
        "person = \"Daniel\"\n",
        "print(person)\n",
        "```\n",
        "All things we have seen before, just condensed!"
      ]
    },
    {
      "cell_type": "code",
      "metadata": {
        "id": "naa1p8HpwqWE",
        "colab_type": "code",
        "outputId": "d255cc08-5328-42b9-acf0-2535df78c319",
        "colab": {
          "base_uri": "https://localhost:8080/",
          "height": 86
        }
      },
      "source": [
        "# space if you need to rewrite some of the code from above and change\n",
        "shopping_list = [\"apples\", \"bananas\", \"oranges\", 10]\n",
        "for weirdVariableName in shopping_list:\n",
        "    print(\"shopping list item: \" + str(weirdVariableName))"
      ],
      "execution_count": 0,
      "outputs": [
        {
          "output_type": "stream",
          "text": [
            "shopping list item: apples\n",
            "shopping list item: bananas\n",
            "shopping list item: oranges\n",
            "shopping list item: 10\n"
          ],
          "name": "stdout"
        }
      ]
    },
    {
      "cell_type": "markdown",
      "metadata": {
        "id": "TpoHjOOtwqWH",
        "colab_type": "text"
      },
      "source": [
        "#### Sidenote: accessing specific objects within a list\n",
        "If you only need to access a specific element within a list, you can use this syntax to do so:"
      ]
    },
    {
      "cell_type": "code",
      "metadata": {
        "id": "j9ji-ZzwwqWI",
        "colab_type": "code",
        "outputId": "5fe444c7-315c-4760-db93-57ccc5286527",
        "colab": {
          "base_uri": "https://localhost:8080/",
          "height": 51
        }
      },
      "source": [
        "                     # 0th  # 1st     # 2nd    element\n",
        "people_to_contact = [\"Joe\", \"Murphy\", \"Daniel\"]\n",
        "\n",
        "print(people_to_contact[0])  # new syntax!\n",
        "print(people_to_contact[2])  # new syntax!"
      ],
      "execution_count": 0,
      "outputs": [
        {
          "output_type": "stream",
          "text": [
            "Joe\n",
            "Daniel\n"
          ],
          "name": "stdout"
        }
      ]
    },
    {
      "cell_type": "markdown",
      "metadata": {
        "id": "mfgrIUYYwqWL",
        "colab_type": "text"
      },
      "source": [
        "If you were wondering about why `people_to_contact[0]` prints out the first object in the list, it is because Python (among many other programming languages) start counting at 0. There is a large debate about whether the first element should be `people_to_contact[1]` or `people_to_contact[0]`, but that is not a stance we will debate about here."
      ]
    },
    {
      "cell_type": "markdown",
      "metadata": {
        "id": "x1IH44iIwqWV",
        "colab_type": "text"
      },
      "source": [
        "## Functions <a name=\"functions\"></a>\n",
        "Functions are compartmentalized pieces of code that we can define to do a specific task. For example, if we had to do something like this:\n",
        "```\n",
        "for drone in drones_that_you_control:\n",
        "    if drone_z_coord >= 50 and drone_x_coord <= 0 and drone_status == \"going to crash\":\n",
        "        // code to tell computer that we are going to crash\n",
        "        if drone_forward_sensor_distance <= 5:\n",
        "            // code to self destruct\n",
        "        else:\n",
        "            // code to move drone\n",
        "```\n",
        "The code we want to write should be easily readable so that we can understand what is happening and fix it. We could keep it this way, but we could also condense this code and make it much easier to understand using functions:\n",
        "```\n",
        "for drone in drones_that_you_control:\n",
        "    if will_crash():\n",
        "        dont()\n",
        "\n",
        "def will_crash():\n",
        "    return drone_z_coord >= 50 and drone_x_coord <= 0 and drone_status == \"going to crash\"\n",
        "\n",
        "def dont():\n",
        "    if drone_forward_sensor_distance <= 5:\n",
        "        // code to self destruct\n",
        "    else:\n",
        "        // code to move drone\n",
        "```\n",
        "The exact code might not look like this, but the idea gets across. We can condense this code by introducing new functions that will take on some of the responsibility within the code.  \n",
        "\n",
        "We did just introduce two new keywords, so let's look at them:  \n",
        "\n",
        "### The anatomy of a function <a name=\"anatomy\"></a>\n",
        "```\n",
        "def function_name(argument_1, argument_2):\n",
        "    function_body\n",
        "```\n",
        "There are four main parts to a function: the `def` keyword, the name of the function, arguments to the function, and the function body.\n",
        "1. `def` keyword: tells Python that we will be defining a new function\n",
        "2. the name of the function: can be any valid variable name (see above)\n",
        "3. the arguments to the function\n",
        "  - Sometimes (but not always) a function will require some outside information in order to do what it needs to do. we can let the function know what is happening on the outside by \"passing it in\" as a argument.\n",
        "  - An example is the `print` function that we saw earlier! The `print` function needs to know what to tell the computer to show on the screen, and it does so with one argument, the item to print.\n",
        "4. function body: what the function should do\n",
        "\n",
        "### The `return` keyword <a name=\"return\"></a>\n",
        "This tells Python that we will be \"returning\" something to the program. This doesn't have to be done for every function, but in some cases, we need a function that can give us something back. Here's one example:\n",
        "```\n",
        "def sum(first_num_to_add, second_num_to_add):\n",
        "    return first_num_to_add + second_num_to_add\n",
        "```\n",
        "Now, we might not write something this simple, but it shows the importance of returning something in some cases.\n",
        "\n",
        "### Calling functions <a name=\"calling\"></a>\n",
        "We use `function_name(argument1, argument2)` when we want to call a function. Let's see an example below."
      ]
    },
    {
      "cell_type": "code",
      "metadata": {
        "id": "riZr1BdSwqWX",
        "colab_type": "code",
        "outputId": "a2fa03a2-477e-436b-bc27-2fdb81004575",
        "colab": {
          "base_uri": "https://localhost:8080/",
          "height": 103
        }
      },
      "source": [
        "def sum(num1, num2):\n",
        "    return num1 + num2\n",
        "\n",
        "def timesTwo(num1):\n",
        "    return num1 * 2\n",
        "\n",
        "def printNumbers(numbers):\n",
        "    for number in numbers:\n",
        "        print(number)\n",
        "\n",
        "number = sum(3, 5)\n",
        "number2 = timesTwo(5)\n",
        "number3 = sum(timesTwo(sum(1, 2)), 4)\n",
        "# print(number)\n",
        "# print(number2)\n",
        "# print(number3)\n",
        "\n",
        "numbers = [number, number2, number3]\n",
        "x = printNumbers(numbers)\n",
        "\n",
        "print('The value of x is: ' + str(x))\n",
        "y = None \n",
        "print(y)"
      ],
      "execution_count": 0,
      "outputs": [
        {
          "output_type": "stream",
          "text": [
            "8\n",
            "10\n",
            "10\n",
            "The value of x is: None\n",
            "None\n"
          ],
          "name": "stdout"
        }
      ]
    },
    {
      "cell_type": "code",
      "metadata": {
        "id": "nTzEAsdgwqWZ",
        "colab_type": "code",
        "colab": {}
      },
      "source": [
        "# here is some more room if you need to practice\n"
      ],
      "execution_count": 0,
      "outputs": []
    },
    {
      "cell_type": "markdown",
      "metadata": {
        "id": "R3LkWUvwwqWb",
        "colab_type": "text"
      },
      "source": [
        "## codingbat.com Practice\n",
        "A good website that was made just for practicing Python is this one: https://codingbat.com/python  \n",
        "\n",
        "We would recommend making an account and practicing with these problems to make sure you understand the basic Python syntax.  \n",
        "\n",
        "Let's take a look at one problem: [sleep_in](https://codingbat.com/prob/p173401)  \n",
        "\n",
        "It seems like we have a function called `sleep_in` that has two parameters: `weekday` and `vacation` telling us whether it is a weekday and if it is a vacation. Here is an example of taking in parameters from the outside. We have a function that doesn't know about the outside world until it is called, where it then knows about whether it is a weekday and if it is a vacation. We don't know who is calling this function, but we assume that the website is testing whether our function functions correctly.  \n",
        "\n",
        "The problem seems to be asking to `return` a `True` value whenever the `weekday` parameter is not `True` or the `vacation` parameter is `True`.  \n",
        "\n",
        "How do we do something if something is true **or** something else is true? "
      ]
    },
    {
      "cell_type": "code",
      "metadata": {
        "id": "I0t39YkUwqWc",
        "colab_type": "code",
        "colab": {}
      },
      "source": [
        "def sleep_in(weekday, vacation):\n",
        "    should_sleep_in = not weekday or vacation\n",
        "    return should_sleep_in"
      ],
      "execution_count": 0,
      "outputs": []
    },
    {
      "cell_type": "markdown",
      "metadata": {
        "id": "f-WqtuCvwqWk",
        "colab_type": "text"
      },
      "source": [
        "## Important Resources <a name=\"resources\"></a>\n",
        "Programming is hard, and there are a LOT of concepts that we didn't cover here. What's important is learning how to learn yourself. Here are some places you can go to learn yourself!\n",
        "* Google! Using search terms like `python` and `programming` and `StackOverflow` (a forum for answering questions from many disciplines) will help a lot!\n",
        "* The ACM slack: we have set up a channel (#programming-help) so that you can ask your own questions! If you have any answers for other people, answer them! Answering other people's questions can be the best way to learn yourself!\n",
        "* Practice! There are many many websites to practice programming, and you can ask around on the #sigaida channel or any of your friends to see if there are any good resources you have found!\n",
        "  - note about practicing: making your own projects will also help you practice! the times I have learned the most are whenever I find something that I want fixed in my own life, and end up going down a deep rabbit hole of a specific technology.\n",
        "\n",
        "Lastly, make sure to keep the goal in mind: to learn how to data science. It's a huge field, and learning how to program will allow you to get the most out of it. Good luck! Remember, we're always here to help!"
      ]
    }
  ]
}