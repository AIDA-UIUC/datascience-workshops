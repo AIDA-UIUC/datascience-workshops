{
 "cells": [
  {
   "cell_type": "markdown",
   "metadata": {},
   "source": [
    "# AIDA Data Science Workshop #1\n",
    "\n",
    "Adapted from [ADSA SP19 Python Basics Workshop](https://github.com/ADSA-UIUC/BeginnerWorkshopsSP19/blob/master/week_2_intro_workshop/week_2_intro_completed.ipynb)\n",
    "\n",
    "## Table of Contents\n",
    "- [Welcome to programming](#welcome)\n",
    "- [Python the programming language](#python)\n",
    "- [Where do I program?](#where)\n",
    "- [Variables, what they are, declaration, types](#variables)\n",
    "- [Sidenote: printing](#printing)\n",
    "- [Program control flow](#controlflow)\n",
    "  - [If-else conditions](#ifelse)\n",
    "  - [The while loop](#while)\n",
    "  - [The for loop](#for)\n",
    "- [Functions](#functions)\n",
    "  - [Anatomy of a function](#anatomy)\n",
    "  - [`return` keyword](#return)\n",
    "  - [Calling functions](#calling)\n",
    "- [codingat.com problem(s)](#codingbat)\n",
    "- [Resources](#resources)"
   ]
  },
  {
   "cell_type": "markdown",
   "metadata": {},
   "source": [
    "## Welcome to Programming (and Data Science)! <a name=\"welcome\"></a>\n",
    "We're sure you already know about all of the hype around programming, computing, and data science, so we'll keep it short. Everything nowadays involves computing, and learning about how to control machines (either on a lower level through manipulating bits or on a higher level through machine learning) is all the hype. We'll be teaching a programming language called Python, one of the most highly used languages today to program!"
   ]
  },
  {
   "cell_type": "markdown",
   "metadata": {},
   "source": [
    "## Python the Programming Language <a name=\"python\"></a>\n",
    "Python is a general purpose programming language created in the late 1980s, and named after Monty Python, that’s used by thousands of people to do things from testing microchips at Intel, to powering Instagram, to building video games with the PyGame library. It’s small, very closely resembles the English language, and has hundreds of existing third-party libraries. Some of these libraries are scientific and numeric computing libraries which can be used to analyze large amounts of data!   \n",
    "\n",
    "We'll be using Python specifically for its ease of use (and teaching), while also providing a lot of functionality right out of the box!"
   ]
  },
  {
   "cell_type": "markdown",
   "metadata": {},
   "source": [
    "## Where do I program? <a name=\"where\"></a>\n",
    "So now that we've gotten the hype out of the way, let's start learning! But where do we begin?  \n",
    "\n",
    "This file will exist as a quick way to start programming, but we'll teach you (next week) about ways to create your own python files to run on your own computer (and not just in this file)! For now, writing code within any cell that looks like code could go in it and pressing the \"play\" button (if you can't find it, ask around) will cause an output to show up right below it.  \n",
    "\n",
    "Try clicking into the cell right below and pressing the play button to see what happens (we'll explain what `print` does in a bit)!"
   ]
  },
  {
   "cell_type": "code",
   "execution_count": 1,
   "metadata": {},
   "outputs": [
    {
     "name": "stdout",
     "output_type": "stream",
     "text": [
      "hi\n"
     ]
    }
   ],
   "source": [
    "print(\"hi\")"
   ]
  },
  {
   "cell_type": "markdown",
   "metadata": {},
   "source": [
    "## Variables <a name=\"variables\"></a>\n",
    "Here's our first programming concept! We can store data within \"variables.\" These are basically words that you can use in place of some piece of data (same as in math).  \n",
    "\n",
    "Below you can see the declaration of a simple variable called `x` that will be set to the value `5`. You can also see that running this line of code doesn't output anything. This is because this storing operation doesn't output anything."
   ]
  },
  {
   "cell_type": "code",
   "execution_count": 2,
   "metadata": {},
   "outputs": [],
   "source": [
    "x = 5"
   ]
  },
  {
   "cell_type": "markdown",
   "metadata": {},
   "source": [
    "Try it yourself! (The green text is called a \"comment,\" and as you might have guessed, it just gives the programmer a way to know what the piece of code does. You can write a comment by typing the pound character then your comment.)"
   ]
  },
  {
   "cell_type": "code",
   "execution_count": 5,
   "metadata": {},
   "outputs": [],
   "source": [
    "# type your code in this cell on the next line!\n"
   ]
  },
  {
   "cell_type": "markdown",
   "metadata": {},
   "source": [
    "### Types of Variables\n",
    "There are many different types of variables. They show what kinds of data we can store. What we saw earlier was an `int`, or an integer. However, there are other types as well:\n",
    "* a `int` - stores only integers\n",
    "* a `string` - stores text data\n",
    "* a `float` - stores numbers with decimals\n",
    "* a `bool` - stores a `True` or `False` value"
   ]
  },
  {
   "cell_type": "code",
   "execution_count": 6,
   "metadata": {},
   "outputs": [],
   "source": [
    "x = 5        # int\n",
    "s = \"hello\"  # string\n",
    "f = 4.5      # float\n",
    "b = True     # bool"
   ]
  },
  {
   "cell_type": "markdown",
   "metadata": {},
   "source": [
    "Note that variables can be named anything you want (with the exception of certain characters and spaces)!  \n",
    "Here are some examples:\n",
    "\n",
    "|okay variable names    | not okay variable names              |\n",
    "|:--                    |:--                                   |\n",
    "|thisIsAVariableName    |this is a variable name (has spaces)  |\n",
    "|thisisavariablename    |1variable (has number at beginning)   |\n",
    "|this_is_a_variable_name|this (special reserved word)          |\n",
    "\n",
    "Here is a [list of reserved words](https://www.programiz.com/python-programming/keywords-identifier) that you can't use as variable names."
   ]
  },
  {
   "cell_type": "markdown",
   "metadata": {},
   "source": [
    "## Sidenote: printing <a name=\"printing\"></a>\n",
    "We can \"print\" things to the screen to show what the value inside a variable is, along with any helpful commentary. We can do this through the `print` function. This means that you can do so by typing `print`, then `(` (open parenthesis), then whatever you want to print, then `)` (close parenthesis)."
   ]
  },
  {
   "cell_type": "code",
   "execution_count": 4,
   "metadata": {},
   "outputs": [
    {
     "name": "stdout",
     "output_type": "stream",
     "text": [
      "hi\n",
      "5\n"
     ]
    }
   ],
   "source": [
    "print(\"hi\")  # note that you have to use quotes (either single or double) to print out text\n",
    "print(x)"
   ]
  },
  {
   "cell_type": "markdown",
   "metadata": {},
   "source": [
    "## Programming Control Flow <a name=\"controlflow\"></a>\n",
    "Let's get into some longer programs now. We call what the program executes and in what order the \"control flow\" of the program. This means that in a longer program, we can decide exactly what happens and when. There are primarily two different structures that we will learn about that facilitate how a program decides what to execute. Lots of words, so let's look at an example."
   ]
  },
  {
   "cell_type": "code",
   "execution_count": 8,
   "metadata": {},
   "outputs": [
    {
     "name": "stdout",
     "output_type": "stream",
     "text": [
      "y is greater than x\n"
     ]
    }
   ],
   "source": [
    "x = 5                             # variable declaration\n",
    "y = x + 6                         # declaring another variable using x (+, -, * (times), / (divide) can be used)\n",
    "if x > y:                         # the 'if' condition checks if x is greater than y\n",
    "    print(\"x is greater than y\")  #     if the result of the condition is true, then we go into this block\n",
    "else:                             # if the condition is not true for any reason\n",
    "    print(\"y is greater than x\")  #     we go into this block"
   ]
  },
  {
   "cell_type": "markdown",
   "metadata": {},
   "source": [
    "### The `if-else` statement <a name=\"ifelse\"></a>\n",
    "This statement is used to check if something is true, just as you might expect. The syntax, as you saw above, is:\n",
    "```\n",
    "if <condition>:\n",
    "    <thing to do if condition is true>\n",
    "else:\n",
    "    <thing to do if condition is not true>\n",
    "```\n",
    "(don't forget the colon after condition and after else!)"
   ]
  },
  {
   "cell_type": "code",
   "execution_count": 9,
   "metadata": {},
   "outputs": [],
   "source": [
    "# try rewriting the cell from above, and try messing with the numbers! either erase this line or start on the next line\n"
   ]
  },
  {
   "cell_type": "markdown",
   "metadata": {},
   "source": [
    "### The `while` loop <a name=\"while\"></a>\n",
    "This statement is used to repeatedly loop until a specific condition is met. The syntax looks like this:\n",
    "```\n",
    "while <condition>:\n",
    "    <thing to do if condition is true>\n",
    "```"
   ]
  },
  {
   "cell_type": "code",
   "execution_count": 10,
   "metadata": {},
   "outputs": [
    {
     "name": "stdout",
     "output_type": "stream",
     "text": [
      "10\n"
     ]
    }
   ],
   "source": [
    "x = 5                # variable declaration\n",
    "while x < 10:        # check the value of x\n",
    "    x = x + 1        # update the value of x if the condition is true\n",
    "print(x)             # once the loop ends and the condition is not true anymore, the next line of code executes"
   ]
  },
  {
   "cell_type": "markdown",
   "metadata": {},
   "source": [
    "Think through the last piece of code, and see if you understand it! If you want, rewrite the code above and mess around with the numbers again."
   ]
  },
  {
   "cell_type": "code",
   "execution_count": 11,
   "metadata": {},
   "outputs": [],
   "source": [
    "# try rewriting the code from above!\n"
   ]
  },
  {
   "cell_type": "markdown",
   "metadata": {},
   "source": [
    "### The `for` loop <a name=\"for\"></a>\n",
    "There is another piece of code that we can use to loop, called the \"for loop\". To understand the uses of this though, we need to look at another type of data: the `list`.  \n",
    "\n",
    "As you might think, a `list` is simply a collection of objects, such as ints or strings. Here is an example of a list:\n",
    "```\n",
    "people_to_contact = [\"Joe\", \"Murphy\", \"Daniel\"]\n",
    "```\n",
    "Here we can see that this is defined by the use of the square brackets `[` and `]`.  \n",
    "\n",
    "Now we can take a look at a `for` loop. If we wanted to have a system to print out the name of each person to contact, the best way to do so would be like this:"
   ]
  },
  {
   "cell_type": "code",
   "execution_count": 13,
   "metadata": {},
   "outputs": [
    {
     "name": "stdout",
     "output_type": "stream",
     "text": [
      "Joe\n",
      "Murphy\n",
      "Daniel\n"
     ]
    }
   ],
   "source": [
    "people_to_contact = [\"Joe\", \"Murphy\", \"Daniel\"]\n",
    "for person in people_to_contact:\n",
    "    print(person)"
   ]
  },
  {
   "cell_type": "markdown",
   "metadata": {},
   "source": [
    "In this loop, what is happening is that the variable `person` is being reassigned to each new person within the list that we defined earlier. So if we wrote out what is happening, it would look like this:\n",
    "```\n",
    "person = \"Joe\"\n",
    "print(person)\n",
    "person = \"Murphy\"\n",
    "print(person)\n",
    "person = \"Daniel\"\n",
    "print(person)\n",
    "```\n",
    "All things we have seen before, just condensed!"
   ]
  },
  {
   "cell_type": "code",
   "execution_count": null,
   "metadata": {},
   "outputs": [],
   "source": [
    "# space if you need to rewrite some of the code from above and change\n"
   ]
  },
  {
   "cell_type": "markdown",
   "metadata": {},
   "source": [
    "#### Sidenote: accessing specific objects within a list\n",
    "If you only need to access a specific element within a list, you can use this syntax to do so:"
   ]
  },
  {
   "cell_type": "code",
   "execution_count": 14,
   "metadata": {},
   "outputs": [
    {
     "name": "stdout",
     "output_type": "stream",
     "text": [
      "Joe\n",
      "Daniel\n"
     ]
    }
   ],
   "source": [
    "                     # 0th  # 1st     # 2nd    element\n",
    "people_to_contact = [\"Joe\", \"Murphy\", \"Daniel\"]\n",
    "\n",
    "print(people_to_contact[0])  # new syntax!\n",
    "print(people_to_contact[2])  # new syntax!"
   ]
  },
  {
   "cell_type": "markdown",
   "metadata": {},
   "source": [
    "If you were wondering about why `people_to_contact[0]` prints out the first object in the list, it is because Python (among many other programming languages) start counting at 0. There is a large debate about whether the first element should be `people_to_contact[1]` or `people_to_contact[0]`, but that is not a stance we will debate about here."
   ]
  },
  {
   "cell_type": "markdown",
   "metadata": {},
   "source": [
    "## Functions <a name=\"functions\"></a>\n",
    "Functions are compartmentalized pieces of code that we can define to do a specific task. For example, if we had to do something like this:\n",
    "```\n",
    "for drone in drones_that_you_control:\n",
    "    if drone_z_coord >= 50 and drone_x_coord <= 0 and drone_status == \"going to crash\":\n",
    "        // code to tell computer that we are going to crash\n",
    "        if drone_forward_sensor_distance <= 5:\n",
    "            // code to self destruct\n",
    "        else:\n",
    "            // code to move drone\n",
    "```\n",
    "The code we want to write should be easily readable so that we can understand what is happening and fix it. We could keep it this way, but we could also condense this code and make it much easier to understand using functions:\n",
    "```\n",
    "for drone in drones_that_you_control:\n",
    "    if will_crash():\n",
    "        dont()\n",
    "\n",
    "def will_crash():\n",
    "    return drone_z_coord >= 50 and drone_x_coord <= 0 and drone_status == \"going to crash\"\n",
    "\n",
    "def dont():\n",
    "    if drone_forward_sensor_distance <= 5:\n",
    "        // code to self destruct\n",
    "    else:\n",
    "        // code to move drone\n",
    "```\n",
    "The exact code might not look like this, but the idea gets across. We can condense this code by introducing new functions that will take on some of the responsibility within the code.  \n",
    "\n",
    "We did just introduce two new keywords, so let's look at them:  \n",
    "\n",
    "### The anatomy of a function <a name=\"anatomy\"></a>\n",
    "```\n",
    "def function_name(argument_1, argument_2):\n",
    "    function_body\n",
    "```\n",
    "There are four main parts to a function: the `def` keyword, the name of the function, arguments to the function, and the function body.\n",
    "1. `def` keyword: tells Python that we will be defining a new function\n",
    "2. the name of the function: can be any valid variable name (see above)\n",
    "3. the arguments to the function\n",
    "  - Sometimes (but not always) a function will require some outside information in order to do what it needs to do. we can let the function know what is happening on the outside by \"passing it in\" as a argument.\n",
    "  - An example is the `print` function that we saw earlier! The `print` function needs to know what to tell the computer to show on the screen, and it does so with one argument, the item to print.\n",
    "4. function body: what the function should do\n",
    "\n",
    "### The `return` keyword <a name=\"return\"></a>\n",
    "This tells Python that we will be \"returning\" something to the program. This doesn't have to be done for every function, but in some cases, we need a function that can give us something back. Here's one example:\n",
    "```\n",
    "def sum(first_num_to_add, second_num_to_add):\n",
    "    return first_num_to_add + second_num_to_add\n",
    "```\n",
    "Now, we might not write something this simple, but it shows the importance of returning something in some cases.\n",
    "\n",
    "### Calling functions <a name=\"calling\"></a>\n",
    "We use `function_name(argument1, argument2)` when we want to call a function. Let's see an example below."
   ]
  },
  {
   "cell_type": "code",
   "execution_count": 15,
   "metadata": {},
   "outputs": [
    {
     "name": "stdout",
     "output_type": "stream",
     "text": [
      "8\n"
     ]
    }
   ],
   "source": [
    "def sum(num1, num2):\n",
    "    return num1 + num2\n",
    "\n",
    "number = sum(3, 5)\n",
    "print(number)"
   ]
  },
  {
   "cell_type": "code",
   "execution_count": 16,
   "metadata": {},
   "outputs": [],
   "source": [
    "# here is some more room if you need to practice\n"
   ]
  },
  {
   "cell_type": "markdown",
   "metadata": {},
   "source": [
    "## codingbat.com Practice\n",
    "A good website that was made just for practicing Python is this one: https://codingbat.com/python  \n",
    "\n",
    "We would recommend making an account and practicing with these problems to make sure you understand the basic Python syntax.  \n",
    "\n",
    "Let's take a look at one problem: [sleep_in](https://codingbat.com/prob/p173401)  \n",
    "\n",
    "It seems like we have a function called `sleep_in` that has two parameters: `weekday` and `vacation` telling us whether it is a weekday and if it is a vacation. Here is an example of taking in parameters from the outside. We have a function that doesn't know about the outside world until it is called, where it then knows about whether it is a weekday and if it is a vacation. We don't know who is calling this function, but we assume that the website is testing whether our function functions correctly.  \n",
    "\n",
    "The problem seems to be asking to `return` a `True` value whenever the `weekday` parameter is not `True` or the `vacation` parameter is `True`.  \n",
    "\n",
    "How do we do something if something is true **or** something else is true? Well, let's look it up!  \n",
    "\n",
    "Here is a [google link](https://www.google.com/search?q=programming+something+or+something+else) and the [first search result](https://cscircles.cemc.uwaterloo.ca/9-else-and-or-not/). Turns out (if you scroll down to \"Boolean Operators: and, or, not\" there is the concept of `something or something`. There is also the concept of `not something`. You can read their explanation on it, but we have our answer now!"
   ]
  },
  {
   "cell_type": "code",
   "execution_count": 19,
   "metadata": {},
   "outputs": [],
   "source": [
    "def sleep_in(weekday, vacation):\n",
    "    should_sleep_in = not weekday or vacation\n",
    "    return should_sleep_in"
   ]
  },
  {
   "cell_type": "markdown",
   "metadata": {},
   "source": [
    "## Important Resources <a name=\"resources\"></a>\n",
    "Programming is hard, and there are a LOT of concepts that we didn't cover here. What's important is learning how to learn yourself. Here are some places you can go to learn yourself!\n",
    "* Google! Using search terms like `python` and `programming` and `StackOverflow` (a forum for answering questions from many disciplines) will help a lot!\n",
    "* The ACM slack: we have set up a channel (#programminghelp) so that you can ask your own questions! If you have any answers for other people, answer them! Answering other people's questions can be the best way to learn yourself!\n",
    "* Practice! There are many many websites to practice programming, and you can ask around on the #sigaida channel or any of your friends to see if there are any good resources you have found!\n",
    "  - note about practicing: making your own projects will also help you practice! the times I have learned the most are whenever I find something that I want fixed in my own life, and end up going down a deep rabbit hole of a specific technology.\n",
    "\n",
    "Lastly, make sure to keep the goal in mind: to learn how to data science. It's a huge field, and learning how to program will allow you to get the most out of it. Good luck! Remember, we're always here to help!"
   ]
  }
 ],
 "metadata": {
  "kernelspec": {
   "display_name": "Python 3.7.3",
   "language": "python",
   "name": "python3.7.3"
  },
  "language_info": {
   "codemirror_mode": {
    "name": "ipython",
    "version": 3
   },
   "file_extension": ".py",
   "mimetype": "text/x-python",
   "name": "python",
   "nbconvert_exporter": "python",
   "pygments_lexer": "ipython3",
   "version": "3.7.6"
  }
 },
 "nbformat": 4,
 "nbformat_minor": 4
}
