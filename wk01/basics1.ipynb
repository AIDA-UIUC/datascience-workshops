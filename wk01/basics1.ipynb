{
 "cells": [
  {
   "cell_type": "markdown",
   "metadata": {},
   "source": [
    "# AIDA Data Science Workshop #1\n",
    "\n",
    "## Concepts taught\n",
    "- Welcome to programming\n",
    "- Python the programming language\n",
    "- Variables, what they are, declaration, types\n",
    "- Sidenote: to print something onto the screen, use `print(\"thing you want to print\")`\n",
    "- Program control flow\n",
    "- If-else conditions\n",
    "- While conditions\n",
    "- Functions\n",
    "- A little practice\n",
    "- codingat.com problem(s)"
   ]
  },
  {
   "cell_type": "code",
   "execution_count": null,
   "metadata": {},
   "outputs": [],
   "source": []
  }
 ],
 "metadata": {
  "kernelspec": {
   "display_name": "Python 3.7.3",
   "language": "python",
   "name": "python3.7.3"
  },
  "language_info": {
   "codemirror_mode": {
    "name": "ipython",
    "version": 3
   },
   "file_extension": ".py",
   "mimetype": "text/x-python",
   "name": "python",
   "nbconvert_exporter": "python",
   "pygments_lexer": "ipython3",
   "version": "3.7.6"
  }
 },
 "nbformat": 4,
 "nbformat_minor": 4
}
