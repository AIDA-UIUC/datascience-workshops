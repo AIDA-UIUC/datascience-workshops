{
  "nbformat": 4,
  "nbformat_minor": 0,
  "metadata": {
    "colab": {
      "name": "AIDA Python Week 2",
      "provenance": [],
      "collapsed_sections": [
        "0IdAoixSAPZU",
        "zVrBlx4AAPZj",
        "pIliDqauAPZq",
        "lrNHcKoCAPZr",
        "xmHQV98BAPZ8",
        "oot7oveOAPaA",
        "tHRQlRreAPaE",
        "366PeEg2APaJ",
        "SJkYTHF9APaL"
      ]
    },
    "kernelspec": {
      "display_name": "Python 3",
      "language": "python",
      "name": "python3"
    }
  },
  "cells": [
    {
      "cell_type": "markdown",
      "metadata": {
        "id": "_JlwZIH6APXB",
        "colab_type": "text"
      },
      "source": [
        "![AIDA Logo [no text]](https://aida.acm.illinois.edu/static/adsa-logo-notext-9b02fdddd07f33d7ef3b4cd6a2e52ddb.png)"
      ]
    },
    {
      "cell_type": "markdown",
      "metadata": {
        "id": "pEdyF3z4APXC",
        "colab_type": "text"
      },
      "source": [
        "# Spring 2020 Data Science Workshop - Week 2   \n",
        "\n",
        "Workshop content is adapted from:\n",
        "* http://python-3-patterns-idioms-test.readthedocs.org/\n",
        "* https://github.com/ehmatthes/intro_programming/\n",
        "* http://github.com/rasbt/python_reference/blob/master/tutorials/sorting_csvs.ipynb\n",
        "* http://www.engr.ucsb.edu/~shell/che210d/numpy.pdf"
      ]
    },
    {
      "cell_type": "markdown",
      "metadata": {
        "id": "kr10iqGTAPXD",
        "colab_type": "text"
      },
      "source": [
        "This workshop is a continuation of last week's Introduction to Python workshop and will be focusing on the following topics:\n",
        "* Reviewing Workshop 1: Introduction to Python\n",
        "* Data Structures\n",
        "    * Lists\n",
        "    * Tuples\n",
        "    * Dictionaries\n",
        "* Loops\n",
        "* Functions\n",
        "* List functions\n",
        "    * List Slicing\n",
        "    * List Comprehensions"
      ]
    },
    {
      "cell_type": "markdown",
      "metadata": {
        "id": "2DmGfsFrAPXE",
        "colab_type": "text"
      },
      "source": [
        "## Reviewing Workshop 1: Introduction to Python"
      ]
    },
    {
      "cell_type": "markdown",
      "metadata": {
        "id": "2zc6Az6CAPXF",
        "colab_type": "text"
      },
      "source": [
        "### Variables and Data Types"
      ]
    },
    {
      "cell_type": "markdown",
      "metadata": {
        "id": "4P-xqOUBAPXG",
        "colab_type": "text"
      },
      "source": [
        "A variable is used to hold a value. Variables and values have an associated datatype. Common datatypes are:\n",
        "* `string` (text)\n",
        "* `int` (integer)\n",
        "* `float` (decimal value)\n",
        "* `bool` (binary `True` or `False` values)\n",
        "* Many more \n",
        "\n",
        "In many programming languages, you must specify what datatype your variable is, however, Python is able to tell the type based on the value you enter. When you declare a variable, you give the variable a name, and specify its value."
      ]
    },
    {
      "cell_type": "code",
      "metadata": {
        "id": "OUduaut6APXH",
        "colab_type": "code",
        "colab": {}
      },
      "source": [
        "my_string = \"Data Science\" # string"
      ],
      "execution_count": 0,
      "outputs": []
    },
    {
      "cell_type": "code",
      "metadata": {
        "id": "M1B4boHJAPXK",
        "colab_type": "code",
        "colab": {}
      },
      "source": [
        "my_int = 5 # integer type"
      ],
      "execution_count": 0,
      "outputs": []
    },
    {
      "cell_type": "code",
      "metadata": {
        "id": "kzlOoSVjAPXM",
        "colab_type": "code",
        "colab": {}
      },
      "source": [
        "my_float = 3.2 # float(decimal) type"
      ],
      "execution_count": 0,
      "outputs": []
    },
    {
      "cell_type": "code",
      "metadata": {
        "id": "UgyhjwrWAPXO",
        "colab_type": "code",
        "colab": {}
      },
      "source": [
        "my_bool = True # boolean type"
      ],
      "execution_count": 0,
      "outputs": []
    },
    {
      "cell_type": "markdown",
      "metadata": {
        "id": "HaTuWva2APXR",
        "colab_type": "text"
      },
      "source": [
        "### If-Else Conditional"
      ]
    },
    {
      "cell_type": "code",
      "metadata": {
        "id": "fn1RyUN3APXR",
        "colab_type": "code",
        "colab": {}
      },
      "source": [
        "x = True # Try changing this variable to \"False\n",
        "if x == True:\n",
        "    print(\"If x is true, then this message will print\")\n",
        "else: \n",
        "    print(\"else, if x is false, this message will print\")"
      ],
      "execution_count": 0,
      "outputs": []
    },
    {
      "cell_type": "markdown",
      "metadata": {
        "id": "Utk29cl7APXT",
        "colab_type": "text"
      },
      "source": [
        "## Data Structures"
      ]
    },
    {
      "cell_type": "markdown",
      "metadata": {
        "id": "k9OtPrHqAPXU",
        "colab_type": "text"
      },
      "source": [
        "While declaring simple variables to hold data is very useful, once you begin working with a large set of related data or values, it becomes necessary to group this collection of data in some sort of structure to work with.\n",
        "\n",
        "Below, we will discuss a few fundamental data structures in Python and computer science in general."
      ]
    },
    {
      "cell_type": "markdown",
      "metadata": {
        "id": "RRbkxzsIAPXV",
        "colab_type": "text"
      },
      "source": [
        "### Lists"
      ]
    },
    {
      "cell_type": "markdown",
      "metadata": {
        "id": "wbYc67e5APXW",
        "colab_type": "text"
      },
      "source": [
        "Lists are perhaps the most fundemantal data structure in Python. A Python `List` is very similar to what other languages call an `Array`, however it has some added functionality.\n",
        "\n",
        "A list in Python is just like a shopping list or a list of numbers. They have a defined order and you can add to it or remove from it.\n",
        "\n",
        "Let's take a look at some simple lists."
      ]
    },
    {
      "cell_type": "code",
      "metadata": {
        "id": "IVvjLEsJAPXX",
        "colab_type": "code",
        "colab": {}
      },
      "source": [
        "# The empty list\n",
        "[]"
      ],
      "execution_count": 0,
      "outputs": []
    },
    {
      "cell_type": "code",
      "metadata": {
        "id": "ICK9xfmSAPXa",
        "colab_type": "code",
        "colab": {}
      },
      "source": [
        "[\"Milk\", \"Eggs\", \"Bacon\"]"
      ],
      "execution_count": 0,
      "outputs": []
    },
    {
      "cell_type": "code",
      "metadata": {
        "id": "gu7a0bz-APXc",
        "colab_type": "code",
        "colab": {}
      },
      "source": [
        "[1, 2, 3]"
      ],
      "execution_count": 0,
      "outputs": []
    },
    {
      "cell_type": "markdown",
      "metadata": {
        "id": "WIHdMa45APXe",
        "colab_type": "text"
      },
      "source": [
        "List literals are all about square brackets (\"[ ]\") and commas (\",\"). You can create a list of literals by wrapping them in square brackets and separating them with commas.\n",
        "\n",
        "You can even mix different types of things into the same list; numbers, strings, booleans."
      ]
    },
    {
      "cell_type": "code",
      "metadata": {
        "id": "j1gOX5b9APXf",
        "colab_type": "code",
        "colab": {}
      },
      "source": [
        "[True, 0, \"Awesome\"]"
      ],
      "execution_count": 0,
      "outputs": []
    },
    {
      "cell_type": "markdown",
      "metadata": {
        "id": "NPSjLvujAPXg",
        "colab_type": "text"
      },
      "source": [
        "We can put variables into a list and set a variable to a list."
      ]
    },
    {
      "cell_type": "code",
      "metadata": {
        "id": "DDfgi9d3APXh",
        "colab_type": "code",
        "colab": {}
      },
      "source": [
        "your_name = \"Albert O'Connor\"\n",
        "awesome_people = [\"Eric Idle\", your_name]\n",
        "print(awesome_people)"
      ],
      "execution_count": 0,
      "outputs": []
    },
    {
      "cell_type": "markdown",
      "metadata": {
        "id": "-BdD5tp8APXj",
        "colab_type": "text"
      },
      "source": [
        "You can append to a list. The following code lets you add an item to the end of a list."
      ]
    },
    {
      "cell_type": "code",
      "metadata": {
        "id": "QHeQnSmLAPXk",
        "colab_type": "code",
        "colab": {}
      },
      "source": [
        "awesome_people.append(\"John Cleese\")\n",
        "print(awesome_people)"
      ],
      "execution_count": 0,
      "outputs": []
    },
    {
      "cell_type": "markdown",
      "metadata": {
        "id": "m1cgpu8gAPXo",
        "colab_type": "text"
      },
      "source": [
        "Lists, like in many other languages, are 0-indexed. Which means that when you try to access the first element in the list, you use the index 0 like so:"
      ]
    },
    {
      "cell_type": "code",
      "metadata": {
        "id": "p99lup4AAPXp",
        "colab_type": "code",
        "colab": {}
      },
      "source": [
        "awesome_people[0]"
      ],
      "execution_count": 0,
      "outputs": []
    },
    {
      "cell_type": "markdown",
      "metadata": {
        "id": "TG6j4GzfAPXt",
        "colab_type": "text"
      },
      "source": [
        "And the second element like this:"
      ]
    },
    {
      "cell_type": "code",
      "metadata": {
        "id": "2x22RY1qAPXt",
        "colab_type": "code",
        "colab": {}
      },
      "source": [
        "awesome_people[1]"
      ],
      "execution_count": 0,
      "outputs": []
    },
    {
      "cell_type": "markdown",
      "metadata": {
        "id": "TqiW94unAPXv",
        "colab_type": "text"
      },
      "source": [
        "There are many Python functions which can be performed on Lists. Here is an example using Python's len() and sum() functions."
      ]
    },
    {
      "cell_type": "code",
      "metadata": {
        "id": "agSL-wYlAPXw",
        "colab_type": "code",
        "colab": {}
      },
      "source": [
        "my_list = [1,2,3,4,5]\n",
        "\n",
        "print(len(my_list)) # Prints the number of items in the list\n",
        "\n",
        "print (sum(my_list)) # Sums up the total value of all integers in the list"
      ],
      "execution_count": 0,
      "outputs": []
    },
    {
      "cell_type": "markdown",
      "metadata": {
        "id": "k_ctv72DAPXy",
        "colab_type": "text"
      },
      "source": [
        "Another useful List operation is `in`, which returns true or false depending on if a value is or is not in a list."
      ]
    },
    {
      "cell_type": "code",
      "metadata": {
        "id": "RneMbBWGAPXz",
        "colab_type": "code",
        "colab": {}
      },
      "source": [
        "my_list = [1,2,3,4,5]\n",
        "\n",
        "print(3 in my_list) # Checks if the value 3 appears in our list\n",
        "\n",
        "print(6 in my_list) # Checks if the value 6 appears in our list"
      ],
      "execution_count": 0,
      "outputs": []
    },
    {
      "cell_type": "markdown",
      "metadata": {
        "id": "oMm6ayabAPX1",
        "colab_type": "text"
      },
      "source": [
        "### Exercise "
      ]
    },
    {
      "cell_type": "markdown",
      "metadata": {
        "id": "lEsUYd53APX3",
        "colab_type": "text"
      },
      "source": [
        "Write a program using If-Else conditionals and List operations which prints \"Buy eggs!\" if the word \"Eggs\" is in the shopping list variable, or adds \"Eggs\" to the shopping list if it is not in the list."
      ]
    },
    {
      "cell_type": "code",
      "metadata": {
        "id": "PWGda3YoAPX3",
        "colab_type": "code",
        "colab": {}
      },
      "source": [
        "shopping_list = ['Bacon', 'Milk'] # Run this once to make the list then enter your code below"
      ],
      "execution_count": 0,
      "outputs": []
    },
    {
      "cell_type": "code",
      "metadata": {
        "id": "4v-EkHz6APX5",
        "colab_type": "code",
        "colab": {}
      },
      "source": [
        "# Enter your code below"
      ],
      "execution_count": 0,
      "outputs": []
    },
    {
      "cell_type": "code",
      "metadata": {
        "id": "N4DEMc68APX7",
        "colab_type": "code",
        "colab": {}
      },
      "source": [
        "# To remove, use the remove() function\n",
        "shopping_list.remove(shopping_list[2])\n",
        "print('Remove Shopping List : ' + str(shopping_list))"
      ],
      "execution_count": 0,
      "outputs": []
    },
    {
      "cell_type": "markdown",
      "metadata": {
        "id": "aYLQsC-vAPX8",
        "colab_type": "text"
      },
      "source": [
        "***\n",
        "## Tuples\n",
        "\n",
        "Anything that can be done to a list can be done to a tuple, as long as it doesn’t involve modifying it. This is due to the fact that tuples are immutable, which means it can not be modified once it is created. \n",
        "\n",
        "You have the option of putting parenthesis as long as the values are separated by commas, but you DO NOT have the option of putting square brackets. If square brackets are used, you will create a list and not a tuple."
      ]
    },
    {
      "cell_type": "code",
      "metadata": {
        "id": "gz_jT-7XAPX9",
        "colab_type": "code",
        "colab": {}
      },
      "source": [
        "tup = 45, 96 # creates a tuple without any parenthesis"
      ],
      "execution_count": 0,
      "outputs": []
    },
    {
      "cell_type": "code",
      "metadata": {
        "id": "r-HIbrmqAPYA",
        "colab_type": "code",
        "colab": {}
      },
      "source": [
        "print(type(tup))"
      ],
      "execution_count": 0,
      "outputs": []
    },
    {
      "cell_type": "code",
      "metadata": {
        "id": "zBV45D83APYB",
        "colab_type": "code",
        "colab": {}
      },
      "source": [
        "another_tup = ('hello', 'there') # creates a tuple with parenthis(easier to read)"
      ],
      "execution_count": 0,
      "outputs": []
    },
    {
      "cell_type": "code",
      "metadata": {
        "id": "T1TOhO0FAPYF",
        "colab_type": "code",
        "colab": {}
      },
      "source": [
        "print(type(another_tup))"
      ],
      "execution_count": 0,
      "outputs": []
    },
    {
      "cell_type": "code",
      "metadata": {
        "id": "8ekUrhKjAPYG",
        "colab_type": "code",
        "colab": {}
      },
      "source": [
        "# accessing tuple elements\n",
        "print(tup[1])\n",
        "print(another_tup[0])"
      ],
      "execution_count": 0,
      "outputs": []
    },
    {
      "cell_type": "code",
      "metadata": {
        "id": "ZOGjLcfmAPYK",
        "colab_type": "code",
        "colab": {}
      },
      "source": [
        "# difference between creating a list and a tuple\n",
        "a_list = [23, 45]   # create new list\n",
        "a_tuple = (3, 4)   # created new tuple\n",
        "print(a_list)\n",
        "print(a_tuple)"
      ],
      "execution_count": 0,
      "outputs": []
    },
    {
      "cell_type": "code",
      "metadata": {
        "id": "LpOzhsMnAPYN",
        "colab_type": "code",
        "colab": {}
      },
      "source": [
        "# try modifying values in a list\n",
        "a_list[1] = 76   \n",
        "print(\"a_list: \", a_list)"
      ],
      "execution_count": 0,
      "outputs": []
    },
    {
      "cell_type": "code",
      "metadata": {
        "id": "H9s59YpdAPYP",
        "colab_type": "code",
        "colab": {}
      },
      "source": [
        "# now try modifying a tuple, will print an error\n",
        "a_tuple[0] = 33"
      ],
      "execution_count": 0,
      "outputs": []
    },
    {
      "cell_type": "markdown",
      "metadata": {
        "id": "wVxzwYNLAPYR",
        "colab_type": "text"
      },
      "source": [
        "## Dictionaries"
      ]
    },
    {
      "cell_type": "markdown",
      "metadata": {
        "id": "aNBmfiJEAPYS",
        "colab_type": "text"
      },
      "source": [
        "Another fundamental and extremely useful data structure is a Python Dictionary. \n",
        "\n",
        "A dictionary is Python's implementation of a structure known as a Hash Table. Essentially, a dictionary keeps a record of `keys` associated with `values`. Keys can be categories, names, or anything you would like which may have an associated value. When looking through the dictionary, you then have the ability to quickly look up the associated value of a key. \n",
        "\n",
        "Dictionaries are easiest to explain by using an example. Below, I have created an example dictionary in which students in a class are the `keys` in a dictionary, and their grades are the `values`."
      ]
    },
    {
      "cell_type": "code",
      "metadata": {
        "id": "ODApIs9-APYS",
        "colab_type": "code",
        "colab": {}
      },
      "source": [
        "empty_dict = {} # Dictionaries are declared using {} curly brackets "
      ],
      "execution_count": 0,
      "outputs": []
    },
    {
      "cell_type": "code",
      "metadata": {
        "id": "is1sBaEYAPYU",
        "colab_type": "code",
        "colab": {}
      },
      "source": [
        "# In this example, the dictionaries keys are students in a class, and the values are their grades\n",
        "class_grades = {\"Adam\": 86, \"Tim\": 93, \"Bill\": 70} "
      ],
      "execution_count": 0,
      "outputs": []
    },
    {
      "cell_type": "markdown",
      "metadata": {
        "id": "-vaEYXfIAPYW",
        "colab_type": "text"
      },
      "source": [
        "By using [ ] square brackets, we can retrieve the value for any key which exists in the dictionary"
      ]
    },
    {
      "cell_type": "code",
      "metadata": {
        "id": "ymQ6kOOsAPYX",
        "colab_type": "code",
        "colab": {}
      },
      "source": [
        "print(class_grades[\"Adam\"])"
      ],
      "execution_count": 0,
      "outputs": []
    },
    {
      "cell_type": "markdown",
      "metadata": {
        "id": "mvgA2g9LAPYZ",
        "colab_type": "text"
      },
      "source": [
        "Using square brackets to retrieve a value for a key that does not exist returns a `KEY ERROR`"
      ]
    },
    {
      "cell_type": "code",
      "metadata": {
        "id": "wlxejc22APYZ",
        "colab_type": "code",
        "colab": {}
      },
      "source": [
        "#print(class_grades[\"Mark\"])"
      ],
      "execution_count": 0,
      "outputs": []
    },
    {
      "cell_type": "markdown",
      "metadata": {
        "id": "89D6bQuMAPYb",
        "colab_type": "text"
      },
      "source": [
        "To resolve this, you can either check if a key exists in the dictionary, or use a Python function called .get() which returns a defaults value of `None` if a key does not exist"
      ]
    },
    {
      "cell_type": "code",
      "metadata": {
        "id": "1d63K97TAPYb",
        "colab_type": "code",
        "colab": {}
      },
      "source": [
        "# Using the regular in syntax will return true or false \n",
        "print(\"Mark\" in class_grades)\n",
        "\n",
        "# The .get() function returns `None` if the key is not found\n",
        "print(class_grades.get(\"Mark\"))"
      ],
      "execution_count": 0,
      "outputs": []
    },
    {
      "cell_type": "markdown",
      "metadata": {
        "id": "aekjTpUUAPYc",
        "colab_type": "text"
      },
      "source": [
        "Dictionaries are commonly used to hold related sets of information, such as a tweet. Twitter and many companies actually use Python and dictionaries to deal with this type of information.\n",
        "\n",
        "Notice below how values can be any datatype, such as Strings, Integers, or even Lists."
      ]
    },
    {
      "cell_type": "code",
      "metadata": {
        "id": "4z6UWVgYAPYd",
        "colab_type": "code",
        "colab": {}
      },
      "source": [
        "tweet = {\n",
        "    \"user\"          : \"adsafan2016\",\n",
        "    \"text\"          : \"Data Science is Awesome\",\n",
        "    \"retweet_count\" : 32567,\n",
        "    \"hashtags\"      : [\"#data\", \"#science\", \"#datascience\", \"#awesome\", \"#yolo\"]\n",
        "}"
      ],
      "execution_count": 0,
      "outputs": []
    },
    {
      "cell_type": "markdown",
      "metadata": {
        "id": "lAUu-7WCAPYf",
        "colab_type": "text"
      },
      "source": [
        "***\n",
        "## Loops"
      ]
    },
    {
      "cell_type": "markdown",
      "metadata": {
        "id": "Xh6RQZ4WAPYg",
        "colab_type": "text"
      },
      "source": [
        "Indexes are useful, but lists really shine when you start looping.\n",
        "\n",
        "One of the most commonly used types of loops is called a `for` loop. A `for` loop lets you do something for each item in a list or collection. They syntax for a `for` loop is like an if statement, because they have an indented block.\n",
        "\n",
        "They look like this:\n",
        "\n",
        "    for item in list:\n",
        "        print(item) # Do any action per item in the list\n",
        "        \n",
        "A good interpretation of what is happening above in English would be:\n",
        "\n",
        "**\"For each item in list, print that item\"**.\n",
        "\n",
        "\"for\" and \"in\" are required. \"list\" can be any variable or literal which is like a list. \"item\" is the name you want to give each item of the list in the indented block as you iterate through. We call each step where item has a new value an iteration.\n",
        "\n",
        "Let's see it in action with our list:"
      ]
    },
    {
      "cell_type": "code",
      "metadata": {
        "id": "oxFaH1qeAPYg",
        "colab_type": "code",
        "colab": {}
      },
      "source": [
        "# This is what out list of awesome people looks like right now:\n",
        "print(awesome_people)\n",
        "\n",
        "for person in awesome_people:\n",
        "    print(person)"
      ],
      "execution_count": 0,
      "outputs": []
    },
    {
      "cell_type": "markdown",
      "metadata": {
        "id": "JM9ACA2rAPYl",
        "colab_type": "text"
      },
      "source": [
        "This is bascially the same as writing:"
      ]
    },
    {
      "cell_type": "code",
      "metadata": {
        "id": "3yvzwyCZAPYm",
        "colab_type": "code",
        "colab": {}
      },
      "source": [
        "person = awesome_people[0]\n",
        "print(person)\n",
        "person = awesome_people[1]\n",
        "print(person)\n",
        "person = awesome_people[2]\n",
        "print(person)"
      ],
      "execution_count": 0,
      "outputs": []
    },
    {
      "cell_type": "markdown",
      "metadata": {
        "id": "1oZb0mkLAPYp",
        "colab_type": "text"
      },
      "source": [
        "But that is a lot more code than:\n",
        "\n",
        "    for person in awesome_people:\n",
        "        print(person)\n",
        "\n",
        "Considering that our list of awesome people could be very long!\n",
        "\n",
        "You can use the built-in function \"range\" to create lists of numbers easily."
      ]
    },
    {
      "cell_type": "code",
      "metadata": {
        "id": "6K37uBWMAPYp",
        "colab_type": "code",
        "colab": {}
      },
      "source": [
        "range(0, 10)"
      ],
      "execution_count": 0,
      "outputs": []
    },
    {
      "cell_type": "markdown",
      "metadata": {
        "id": "3bnW7n9ZAPYs",
        "colab_type": "text"
      },
      "source": [
        "And then we can use that with a loop to print a list of squares. Note that we use special string formatting here in which `{0}` represents the first variable inside the format parentheses, and `{1}` represents the second variable."
      ]
    },
    {
      "cell_type": "code",
      "metadata": {
        "id": "_8eBZczkAPYs",
        "colab_type": "code",
        "colab": {}
      },
      "source": [
        "for number in range(0, 10):\n",
        "    print(\"{0} squared is {1}\".format(number, number**2))"
      ],
      "execution_count": 0,
      "outputs": []
    },
    {
      "cell_type": "markdown",
      "metadata": {
        "id": "8fmPcaXMAPYu",
        "colab_type": "text"
      },
      "source": [
        "***\n",
        "## Functions"
      ]
    },
    {
      "cell_type": "markdown",
      "metadata": {
        "id": "VmGOtLN7APYu",
        "colab_type": "text"
      },
      "source": [
        "Functions are a set of actions that we group together, and give a name to. We can define our own functions, which allows us to \"teach\" Python new behavior.\n",
        "\n",
        "Here is the general syntax for defining and calling functions.\n",
        "\n",
        "    # Let's define a function.\n",
        "    def function_name(argument_1, argument_2):\n",
        "        # Do whatever we want this function to do,\n",
        "        # using argument_1 and argument_2\n",
        "        \n",
        "    # Use function_name to call the function.\n",
        "    function_name(value_1, value_2)\n",
        "\n",
        "* __Defining a function__\n",
        "    * The keyword `def` tells Python that you are about to define a function.\n",
        "    * Functions have a name. A variable name tells you what kind of value the variable contains; a function name should tell you what the function does.\n",
        "    * The values inside parentheses are called __arguments__ or __parameters__. Functions use parameters to get data it may need to execute.\n",
        "        * These are basically variable names, but they are only used in the function.\n",
        "        * They can be different names than what you use in the rest of your program.\n",
        "    * Make sure the function definition line ends with a colon.\n",
        "* __Using your function__\n",
        "    * To call your function, write its name followed by parentheses.\n",
        "    * Inside the parentheses, provide the values for the function's parameters.\n",
        "    * These can be values can be other variables you have defined or literal values."
      ]
    },
    {
      "cell_type": "code",
      "metadata": {
        "id": "PbEAbmlZAPYw",
        "colab_type": "code",
        "colab": {}
      },
      "source": [
        "# This function prints a two-line personalized thank you message.\n",
        "def say_hello(name):\n",
        "    # print() is also a function!\n",
        "    # It prints the string you give it onto the screen.\n",
        "    \n",
        "    print('Hello, %s!'%(name))\n",
        "    print('How\\'s it going?') # Note that the \\ character allows you to use single quotes without ending the string"
      ],
      "execution_count": 0,
      "outputs": []
    },
    {
      "cell_type": "code",
      "metadata": {
        "id": "JAuxIxHGAPYy",
        "colab_type": "code",
        "colab": {}
      },
      "source": [
        "# now we can use the function that we just defined\n",
        "say_hello('Adriana')\n",
        "print('')\n",
        "say_hello('Billy')\n",
        "print('')\n",
        "say_hello('Caroline')"
      ],
      "execution_count": 0,
      "outputs": []
    },
    {
      "cell_type": "markdown",
      "metadata": {
        "id": "NYQLzFRAAPY0",
        "colab_type": "text"
      },
      "source": [
        "You have already used quite a lot of built in functions so far. Here's some more functions that we can use on lists to sort them."
      ]
    },
    {
      "cell_type": "code",
      "metadata": {
        "id": "npiznQDXAPY1",
        "colab_type": "code",
        "colab": {}
      },
      "source": [
        "students = ['Bernice', 'Aaron', 'Cody']\n",
        "\n",
        "# Use the sort function to put students in alphabetical order.\n",
        "students.sort()\n",
        "\n",
        "# Display the list in its current order.\n",
        "print(\"Students in alphabetical order.\")\n",
        "for student in students:\n",
        "    print(student.title())\n",
        "\n",
        "# Give the sort function the reverse parameter\n",
        "# This puts students in reverse alphabetical order.\n",
        "students.sort(reverse=True)\n",
        "\n",
        "# Display the list in reverse order.\n",
        "print(\"\\nStudents in reverse alphabetical order.\")\n",
        "for student in students:\n",
        "    print(student.title())"
      ],
      "execution_count": 0,
      "outputs": []
    },
    {
      "cell_type": "markdown",
      "metadata": {
        "id": "EbnyUBGZAPY3",
        "colab_type": "text"
      },
      "source": [
        "### Returning Values from Functions\n",
        "\n",
        "Functions can also return values. This is useful when we want the function to compute some data and give it back to us to use elsewhere in our code.\n",
        "\n",
        "Note: once a function returns something, Python moves out of that code. So anything after the return statement will not be run."
      ]
    },
    {
      "cell_type": "code",
      "metadata": {
        "id": "0wH2ZoXRAPY4",
        "colab_type": "code",
        "colab": {}
      },
      "source": [
        "def add_five(number):\n",
        "    print(\"Adding 5 to\", number, \"now...\")\n",
        "    return number + 5\n",
        "    # We have already returned out of the function, the line below is arbitrary\n",
        "    print(\"This will not get printed\")\n",
        "    \n",
        "# Now use your function add_five()\n",
        "num = add_five(10)\n",
        "print(\"New number is:\", num)"
      ],
      "execution_count": 0,
      "outputs": []
    },
    {
      "cell_type": "code",
      "metadata": {
        "id": "XonAx1SyAPY5",
        "colab_type": "code",
        "colab": {}
      },
      "source": [
        "def get_number_word(number):\n",
        "    # Takes in a numerical value, and returns the word corresponding to that number.\n",
        "    if number == 1:\n",
        "        return 'one'\n",
        "    elif number == 2:\n",
        "        return 'two'\n",
        "    elif number == 3:\n",
        "        return 'three'\n",
        "    else:\n",
        "        return 'Not 1, 2, or 3'\n",
        "    \n",
        "# Let's try out our function.\n",
        "for number in range(0, 4):\n",
        "    number_word = get_number_word(number)\n",
        "    print(number, number_word)"
      ],
      "execution_count": 0,
      "outputs": []
    },
    {
      "cell_type": "markdown",
      "metadata": {
        "id": "mQtENLjoAPY7",
        "colab_type": "text"
      },
      "source": [
        "### Exercise \n",
        "Now try writing a function called `future_age` that takes in a name, current_age, and n_years as parameters, and returns a message with their name saying how old they will be in n_years. For example: future_age('Bill', 20, 13) should return 'Bill will be 33 years old in 13 years'."
      ]
    },
    {
      "cell_type": "code",
      "metadata": {
        "id": "YZ3RDhhwAPY7",
        "colab_type": "code",
        "colab": {}
      },
      "source": [
        "# Enter code below"
      ],
      "execution_count": 0,
      "outputs": []
    },
    {
      "cell_type": "code",
      "metadata": {
        "id": "3chAH775APY9",
        "colab_type": "code",
        "colab": {}
      },
      "source": [
        "future_age('Bill', 20, 13)"
      ],
      "execution_count": 0,
      "outputs": []
    },
    {
      "cell_type": "markdown",
      "metadata": {
        "id": "PC8ulARZAPY-",
        "colab_type": "text"
      },
      "source": [
        "### Exercise \n",
        "Now you try writing a function called called `factorial`, which takes in a paramter n, and returns `n!`. Then, try testing your function out, factorial(5) should return 120. (Note that the factorial of 0 is 1, so we can start our return variable at 1 rather than 0.)"
      ]
    },
    {
      "cell_type": "code",
      "metadata": {
        "id": "yrUiiBj_APY_",
        "colab_type": "code",
        "colab": {}
      },
      "source": [
        ""
      ],
      "execution_count": 0,
      "outputs": []
    },
    {
      "cell_type": "code",
      "metadata": {
        "id": "Zu4r3hg1APZA",
        "colab_type": "code",
        "colab": {}
      },
      "source": [
        "print(factorial(5)) # output should be 120"
      ],
      "execution_count": 0,
      "outputs": []
    },
    {
      "cell_type": "markdown",
      "metadata": {
        "id": "cUp596k6APZE",
        "colab_type": "text"
      },
      "source": [
        "### Exercise\n",
        "\n",
        "<b>Applies the following:</b>\n",
        "- loops\n",
        "- lists\n",
        "- math operators\n",
        "- functions"
      ]
    },
    {
      "cell_type": "code",
      "metadata": {
        "id": "JjrexOvAAPZE",
        "colab_type": "code",
        "colab": {}
      },
      "source": [
        "# execute this line first\n",
        "list_data = [20, 50, 30, 70, 42, 30, 56, 72, 88, 90, 4, 65, 77, 42, 57]"
      ],
      "execution_count": 0,
      "outputs": []
    },
    {
      "cell_type": "code",
      "metadata": {
        "id": "hkrWiD_pAPZH",
        "colab_type": "code",
        "colab": {}
      },
      "source": [
        "# write a function that will take any list of numbers and sum up the values\n",
        "# this function should return the sum of the list.\n",
        "\n",
        "# input: a list\n",
        "# output: an integer\n",
        "def sum_list(data):"
      ],
      "execution_count": 0,
      "outputs": []
    },
    {
      "cell_type": "code",
      "metadata": {
        "id": "aeSz5UsUAPZJ",
        "colab_type": "code",
        "colab": {}
      },
      "source": [
        "# Call the function sum_list\n",
        "print(sum_list(list_data))"
      ],
      "execution_count": 0,
      "outputs": []
    },
    {
      "cell_type": "code",
      "metadata": {
        "id": "V0DbrhI9APZM",
        "colab_type": "code",
        "colab": {}
      },
      "source": [
        "# write another function that will take the sum and print out each digit separately\n",
        "# example - 793 should print out '7', '9', and '3'\n",
        "\n",
        "# input: a list \n",
        "# output: none\n",
        "def print_digits(data):"
      ],
      "execution_count": 0,
      "outputs": []
    },
    {
      "cell_type": "code",
      "metadata": {
        "id": "cETp1TJsAPZS",
        "colab_type": "code",
        "colab": {}
      },
      "source": [
        "# call the function print_digits\n",
        "print_digits(list_data)"
      ],
      "execution_count": 0,
      "outputs": []
    },
    {
      "cell_type": "markdown",
      "metadata": {
        "id": "0IdAoixSAPZU",
        "colab_type": "text"
      },
      "source": [
        "### Passing by Reference\n",
        "\n",
        "All parameters in Python are passed by reference and so if you change the parameter inside a called function, the same change occurs in the calling function."
      ]
    },
    {
      "cell_type": "code",
      "metadata": {
        "id": "9WF1mWabAPZV",
        "colab_type": "code",
        "colab": {}
      },
      "source": [
        "def addtolist(ls):\n",
        "    #This changes a passed list into this function by adding values to it\n",
        "    ls.append(99)\n",
        "    print(\"List inside the function: \", ls)\n",
        "\n",
        "mylist = [10,20,30]\n",
        "print(\"List before function: \", mylist)\n",
        "addtolist(mylist)\n",
        "print(\"List after the function: \", mylist)"
      ],
      "execution_count": 0,
      "outputs": []
    },
    {
      "cell_type": "markdown",
      "metadata": {
        "id": "qY6IZEt6APZW",
        "colab_type": "text"
      },
      "source": [
        "***\n",
        "## Standard Library Modules\n",
        "\n",
        "Python comes \"batteries loaded\". This means that Python comes with a lot of prewritten code that is called the standard library. This library is very extensive, and offers a lot of modules and classes to accomplish a wide range of tasks.\n",
        "\n",
        "All of the modules in Python's Standard Library are listed in the official documentation at https://docs.python.org/3/library/index.html. To use any of these modules, you need to import them or the specific functions in them:\n",
        "\n",
        "    import math\n",
        "    # or\n",
        "    from math import factorial, log\n",
        "\n",
        "### Python `math`\n",
        "\n",
        "Let's have a look at the `math` module."
      ]
    },
    {
      "cell_type": "code",
      "metadata": {
        "id": "hjT-kpCrAPZZ",
        "colab_type": "code",
        "colab": {}
      },
      "source": [
        "import math\n",
        "\n",
        "mynum = 14\n",
        "print(math.sqrt(mynum))\n",
        "\n",
        "# math.pi is a constant in the math module\n",
        "print(math.sin(math.pi)) # should be almost 0"
      ],
      "execution_count": 0,
      "outputs": []
    },
    {
      "cell_type": "markdown",
      "metadata": {
        "id": "SxjWBcZDAPZe",
        "colab_type": "text"
      },
      "source": [
        "### File I/O\n",
        "\n",
        "It is very useful to know how to read and write files in Python. A lot of datasets are distributed in files, and to use the data in them we need to be able to read them.\n",
        "\n",
        "Below we will go over some of the basics with I/O. When loading and saving files you can specify the entire filepath or just relative to the current working directory."
      ]
    },
    {
      "cell_type": "code",
      "metadata": {
        "id": "feicELWTAPZe",
        "colab_type": "code",
        "colab": {}
      },
      "source": [
        "# writes a simple statement to a text file\n",
        "filepath = 'simple.txt'\n",
        "\n",
        "# opens the file. 'w' signifies we want to write to it.\n",
        "f = open(filepath, 'w')\n",
        "''' \n",
        "'w' erases existing file and writes. \n",
        "Creates a new file if the file name does not exist \n",
        "Use 'a' to append to an existing file \n",
        "'''\n",
        "\n",
        "# write a line to file using the .write() function\n",
        "f.write('Hello Advanced Python Workshop!\\n')\n",
        "f.close() # if you open a file, always close it\n",
        "print('The file has been written')"
      ],
      "execution_count": 0,
      "outputs": []
    },
    {
      "cell_type": "markdown",
      "metadata": {
        "id": "qS8xu2NOAPZf",
        "colab_type": "text"
      },
      "source": [
        "Likewise we can load text files using the `read()` function."
      ]
    },
    {
      "cell_type": "code",
      "metadata": {
        "id": "4ApAlLUyAPZg",
        "colab_type": "code",
        "colab": {}
      },
      "source": [
        "filepath = 'simple.txt'\n",
        "# opens the file, default behavior is to read (not write)\n",
        "f = open(filepath) # default parameter is 'r' for read\n",
        "print(f.read()) # reads the text file\n",
        "f.close()"
      ],
      "execution_count": 0,
      "outputs": []
    },
    {
      "cell_type": "markdown",
      "metadata": {
        "id": "pIliDqauAPZq",
        "colab_type": "text"
      },
      "source": [
        "***\n",
        "## Important functions using lists\n",
        "\n",
        "Lists are so common in Python that it is very useful to know how to do some basic tasks with it. These include slicing, merging, and generating lists."
      ]
    },
    {
      "cell_type": "markdown",
      "metadata": {
        "id": "lrNHcKoCAPZr",
        "colab_type": "text"
      },
      "source": [
        "### Slicing\n",
        "List slicing allows you to select sections of the list. It can be thought of as an enchanced indexing method.\n",
        "![List Slicing Image](http://www.nltk.org/images/string-slicing.png)\n",
        "\n",
        "Slicing uses the syntax `mylist[start:end]` and the resulting list will include elements from `start` to (but not including) `end`. Here's an example to illustrate this."
      ]
    },
    {
      "cell_type": "code",
      "metadata": {
        "id": "mprqjdL4APZt",
        "colab_type": "code",
        "colab": {}
      },
      "source": [
        "# to select 4 elements of a string starting from index 6\n",
        "\n",
        "seq = 'Monty Python'\n",
        "print(seq[6:10])"
      ],
      "execution_count": 0,
      "outputs": []
    },
    {
      "cell_type": "markdown",
      "metadata": {
        "id": "Jira2IR-APZv",
        "colab_type": "text"
      },
      "source": [
        "To select everything until a particular index, we can omit the `start` number."
      ]
    },
    {
      "cell_type": "code",
      "metadata": {
        "id": "jMK3-HNnAPZw",
        "colab_type": "code",
        "colab": {}
      },
      "source": [
        "print(seq[:5])"
      ],
      "execution_count": 0,
      "outputs": []
    },
    {
      "cell_type": "markdown",
      "metadata": {
        "id": "WrawqBusAPZy",
        "colab_type": "text"
      },
      "source": [
        "Similarly we can omit the `end` number to select everything until the end."
      ]
    },
    {
      "cell_type": "code",
      "metadata": {
        "id": "1SuM-NKXAPZz",
        "colab_type": "code",
        "colab": {}
      },
      "source": [
        "print(seq[7:])"
      ],
      "execution_count": 0,
      "outputs": []
    },
    {
      "cell_type": "markdown",
      "metadata": {
        "id": "_iesT8ObAPZ1",
        "colab_type": "text"
      },
      "source": [
        "We can also use negative indices to select from the end."
      ]
    },
    {
      "cell_type": "code",
      "metadata": {
        "id": "strkHvPuAPZ2",
        "colab_type": "code",
        "colab": {}
      },
      "source": [
        "print(seq[-11:-4])"
      ],
      "execution_count": 0,
      "outputs": []
    },
    {
      "cell_type": "markdown",
      "metadata": {
        "id": "wQ5hNGq-APZ4",
        "colab_type": "text"
      },
      "source": [
        "To skip every set number of elements, we can provide a step parameter."
      ]
    },
    {
      "cell_type": "code",
      "metadata": {
        "id": "gzDoxYCWAPZ5",
        "colab_type": "code",
        "colab": {}
      },
      "source": [
        "print(seq[2:11:2])"
      ],
      "execution_count": 0,
      "outputs": []
    },
    {
      "cell_type": "markdown",
      "metadata": {
        "id": "xmHQV98BAPZ8",
        "colab_type": "text"
      },
      "source": [
        "### Sorting Lists"
      ]
    },
    {
      "cell_type": "markdown",
      "metadata": {
        "id": "Cj5eYNmsAPZ8",
        "colab_type": "text"
      },
      "source": [
        "There are two ways to sort lists. We can either modify the list itself to make it sorted. Or we can return a new sorted list, thus preserving the order of the original list."
      ]
    },
    {
      "cell_type": "code",
      "metadata": {
        "id": "qXok_ZvIAPZ8",
        "colab_type": "code",
        "colab": {}
      },
      "source": [
        "# in-place sorting\n",
        "seq = [1, 5, 3, 9, 7, 6]\n",
        "seq.sort()\n",
        "print(seq)"
      ],
      "execution_count": 0,
      "outputs": []
    },
    {
      "cell_type": "code",
      "metadata": {
        "id": "re2o-XNJAPZ-",
        "colab_type": "code",
        "colab": {}
      },
      "source": [
        "# return a new list that is sorted\n",
        "seq = [1, 5, 3, 9, 7, 6]\n",
        "newseq = sorted(seq)\n",
        "print(newseq)"
      ],
      "execution_count": 0,
      "outputs": []
    },
    {
      "cell_type": "markdown",
      "metadata": {
        "id": "h9Uu9P3vAPZ_",
        "colab_type": "text"
      },
      "source": [
        "You can also specify how you want to sort lists based on the `key` parameter. So if we want to sort it by length, we can do something like this."
      ]
    },
    {
      "cell_type": "code",
      "metadata": {
        "id": "RZ0MZBT9APZ_",
        "colab_type": "code",
        "colab": {}
      },
      "source": [
        "seq = ['hello', 'wow', 'technology', 'python']\n",
        "seq.sort(key=len)\n",
        "print(seq)"
      ],
      "execution_count": 0,
      "outputs": []
    },
    {
      "cell_type": "markdown",
      "metadata": {
        "id": "tHRQlRreAPaE",
        "colab_type": "text"
      },
      "source": [
        "### List Comprehensions\n",
        "List comprehensions are one of the best features of Python's list. They allow you to generate new lists using syntax that is very similar to English.\n",
        "\n",
        "List comprehensions concisely form a new list by filtering the elements of a sequence and transforming the elements passing the filter. List comprehensions take the form:\n",
        "\n",
        "    [expr for val in collection if condition]\n",
        "\n",
        "![List Comprehension figure](http://python-3-patterns-idioms-test.readthedocs.org/en/latest/_images/listComprehensions.gif)\n",
        "\n",
        "Which is equivalent to the following for loop:\n",
        "\n",
        "    result = []\n",
        "    for val in collection:\n",
        "        if condition:\n",
        "            result.append(expr)\n",
        "\n",
        "Here's an example that converts to upper case all strings that start with a 'b':"
      ]
    },
    {
      "cell_type": "code",
      "metadata": {
        "id": "EN_J-T3rAPaF",
        "colab_type": "code",
        "colab": {}
      },
      "source": [
        "a_list = [1, 4, 9, 3, 0, 4]\n",
        "squared_ints = [e**2 for e in a_list]\n",
        "print(squared_ints)"
      ],
      "execution_count": 0,
      "outputs": []
    },
    {
      "cell_type": "code",
      "metadata": {
        "id": "mOlA_2YbAPaH",
        "colab_type": "code",
        "colab": {}
      },
      "source": [
        "strings = ['foo', 'bar', 'baz', 'f', 'fo', 'b', 'ba']\n",
        "newlist = [x.upper() for x in strings if x[0] == 'b']\n",
        "print(newlist)"
      ],
      "execution_count": 0,
      "outputs": []
    },
    {
      "cell_type": "markdown",
      "metadata": {
        "id": "DLmiuH_0WoAX",
        "colab_type": "text"
      },
      "source": [
        "## codingbat.com Practice\n",
        "A good website that was made just for practicing Python is this one: https://codingbat.com/python  \n",
        "\n",
        "We would recommend making an account and practicing with these problems to make sure you understand the basic Python syntax.  \n",
        "\n",
        "### Question\n",
        "Let's take a look at [array_front9](https://codingbat.com/prob/p110166)\n",
        "\n",
        "Given an array of ints, return True if one of the first 4 elements in the array is a 9. The array length may be less than 4.\n",
        "\n",
        "#### Examples\n",
        "- array_front9([1, 2, 9, 3, 4]) → True\n",
        "- array_front9([1, 2, 3, 4, 9]) → False\n",
        "- array_front9([1, 2, 3, 4, 5]) → False"
      ]
    },
    {
      "cell_type": "code",
      "metadata": {
        "id": "pSJF9BfyXfE3",
        "colab_type": "code",
        "colab": {}
      },
      "source": [
        ""
      ],
      "execution_count": 0,
      "outputs": []
    },
    {
      "cell_type": "markdown",
      "metadata": {
        "id": "SJkYTHF9APaL",
        "colab_type": "text"
      },
      "source": [
        "## Important Resources\n",
        "Programming is hard, and there are a LOT of concepts that we didn't cover here. What's important is learning how to learn yourself. Here are some places you can go to learn yourself!\n",
        "* Google! Using search terms like `python` and `programming` and `StackOverflow` (a forum for answering questions from many disciplines) will help a lot!\n",
        "* The ACM slack: we have set up a channel (#programming-help) so that you can ask your own questions! If you have any answers for other people, answer them! Answering other people's questions can be the best way to learn yourself!\n",
        "* Practice! There are many many websites to practice programming, and you can ask around on the #sigaida channel or any of your friends to see if there are any good resources you have found!\n",
        "  - note about practicing: making your own projects will also help you practice! the times I have learned the most are whenever I find something that I want fixed in my own life, and end up going down a deep rabbit hole of a specific technology.\n",
        "\n",
        "Lastly, make sure to keep the goal in mind: to learn how to data science. It's a huge field, and learning how to program will allow you to get the most out of it. Good luck! Remember, we're always here to help!"
      ]
    }
  ]
}