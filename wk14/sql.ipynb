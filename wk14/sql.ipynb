{
 "cells": [
  {
   "cell_type": "markdown",
   "metadata": {},
   "source": [
    "# AIDA Data Science Workshop #12\n",
    "\n",
    "## Concepts Taught\n",
    "- Bonus Topic #1: Databases!\n",
    "- Why use a database?\n",
    "- What kinds of databases are there? (There's a whole research field about this!)\n",
    "- Simplest one we'll look at: SQL using `sqlite3`\n",
    "- Anatomy of a SQL query\n",
    "- Basic syntax of `sqlite3`\n",
    "- Practice\n",
    "- Another database example: PostgresSQL, MongoDB, Redis?"
   ]
  },
  {
   "cell_type": "code",
   "execution_count": null,
   "metadata": {},
   "outputs": [],
   "source": [
    "import sqlite3"
   ]
  }
 ],
 "metadata": {
  "kernelspec": {
   "display_name": "Python 3.7.3",
   "language": "python",
   "name": "python3.7.3"
  },
  "language_info": {
   "codemirror_mode": {
    "name": "ipython",
    "version": 3
   },
   "file_extension": ".py",
   "mimetype": "text/x-python",
   "name": "python",
   "nbconvert_exporter": "python",
   "pygments_lexer": "ipython3",
   "version": "3.7.6"
  }
 },
 "nbformat": 4,
 "nbformat_minor": 4
}
