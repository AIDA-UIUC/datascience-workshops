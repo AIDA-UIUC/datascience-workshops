{
 "cells": [
  {
   "cell_type": "markdown",
   "metadata": {
    "colab_type": "text",
    "id": "tW8xJ0owooTo"
   },
   "source": [
    "# Environment Setup\n",
    "*If you have already installed Python and Jupyter on your computer and are comfortable using them, then feel free to skip this step.*\n",
    "\n",
    "## Anaconda\n",
    "Anaconda is an open-source environment configuration tool for data science. It will help you install Python, Jupyter, and other libraries. You can use Conda to create Jupyter notebooks and install Python packages (additional libraries).\n",
    "\n",
    "Follow the official Anaconda installation instructions for your machine (Linux, Mac, Windows) https://docs.anaconda.com/anaconda/install/. If you need any help, just ask!\n",
    "\n",
    "### Using Anaconda\n",
    "Once you have Anaconda installed, you should see something called ***Anaconda Navigator*** installed on your system. Go ahead and launch this.\n",
    "\n",
    "![Anaconda Navigator](https://i.imgur.com/NGnV0uT.png)\n",
    "\n",
    "Here you'll see various different data science related applications. If you have programmed in R before, you may be familiar with R Studio already. For the rest of this semester, we'll be using Jupyter Notebook. What you're using right now, Google Colab, is an online form of Jupyter Notebooks (kind of like what Google Docs is to Microsoft Word). \n",
    "\n",
    "Launch Jupyter Notebook. It should pop up with an application in your browser. Now move around your file directories to find a location to create our new notebook. (Note that you may not have all of the kernel options like the screenshot below, but find \"Python 3\" and click on that)\n",
    "\n",
    "![Jupyter](https://i.imgur.com/EK9vABD.png)\n",
    "\n",
    "To create a new notebook, click the ***new*** button in the top right\n",
    "\n",
    "![Notebook](https://i.imgur.com/nwqN8b6.png)\n",
    "\n",
    "You should now see something like the above in your browser. This is a Jupyter notebook! You can write and run Python code in it, add notes, and save your work. Go ahead and try writing some code. To run it, type `ctrl`+`enter` for Windows/Linux or `cmd`+`enter` for Mac. You can also press the `run` button in the toolbar. When you're done, go ahead and save your work.\n",
    "\n",
    "## Git\n",
    "Git is the most popular, open-source version control system for developers and data scientists. Git is a powerful tool, while also beginner friendly for simpler use. You shouldn't be intimidated by Git or feel like you need to understand all of it. We'll walk through how to install Git and then clone and push to a repository (and what that means). You may be familiar with Git already, if you've ever been to https://www.github.com or checked out [our GitHub page](https://github.com/AIDA-UIUC) then you've seen Git in the wild. GitHub is like the cloud for Git repositories. You can host your projects on it, and use Git as a tool to push and pull revisions for your code to it.\n",
    "\n",
    "### Create a GitHub Account\n",
    "Go to https://www.github.com and create your own account (if you haven't already)! Once you have created your own account, click the button to create a `new` repository. \n",
    "\n",
    "![git new repo](https://guides.github.com/activities/hello-world/create-new-repo.png)\n",
    "\n",
    "Give the new repository a name and description, and then go ahead and create the new repository. We'll come back to this in a moment.\n",
    "\n",
    "### Installing Git\n",
    "While Git is most commonly used from the command line, since it's your first time it may help to use GitHub desktop.\n",
    "\n",
    "Go ahead and follow the official installation guide https://desktop.github.com/\n",
    "\n",
    "Once installed, go ahead and open up the app. Login to your GitHub account you just created.\n",
    "\n",
    "Once logged in click the ***Clone a repository from the internet*** button. You should see the repository you just created. If not, click the ***url*** button and paste the link from the repository you created earlier.\n",
    "\n",
    "### Using Git and GitHub\n",
    "Go back to your Jupyter notebook. If you already closed it, reopen Jupyter following the steps layed out earlier. From within the notebook, go to `file` -> `save as` and save it to the same folder on your computer that you cloned the repository to.\n",
    "\n",
    "Now go back to GitHub desktop. You should see something like this for your repo. We are now going to go ahead and ***push*** our changes to GitHub.\n",
    "\n",
    "![git stage](https://idratherbewritingmedia.com/images/api/github-desktop-file-uncommitted-changes.png)\n",
    "\n",
    "Go ahead and write a summary and optionally a description. This will be your commit message, a note that describes the changes you made. In this case, we're just adding a file to try out Git, but in the future it's vital you write good commit messages so you can refer to them in the future as notes for what you changed. If you're working with other people, good commit messages are vital to their understanding of what you changed as well. \n",
    "\n",
    "From there, go ahead and click the button to commit to master and then push the changes to GitHub. If you go back to your GitHub repository online, you should see the changes. \n",
    "\n",
    "We'll work more with Git in the future! For now, this is just a sample to get you familiar."
   ]
  }
 ],
 "metadata": {
  "colab": {
   "name": "AIDA Environment Set-Up.ipynb",
   "provenance": []
  },
  "kernelspec": {
   "display_name": "Python 3",
   "language": "python",
   "name": "python3"
  },
  "language_info": {
   "codemirror_mode": {
    "name": "ipython",
    "version": 3
   },
   "file_extension": ".py",
   "mimetype": "text/x-python",
   "name": "python",
   "nbconvert_exporter": "python",
   "pygments_lexer": "ipython3",
   "version": "3.8.1"
  }
 },
 "nbformat": 4,
 "nbformat_minor": 4
}
