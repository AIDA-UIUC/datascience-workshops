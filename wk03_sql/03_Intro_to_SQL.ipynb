{
  "nbformat": 4,
  "nbformat_minor": 0,
  "metadata": {
    "colab": {
      "name": "Intro_to_SQL_(Worksheet).ipynb",
      "provenance": [],
      "private_outputs": true,
      "collapsed_sections": [
        "c56yxVl3F-44"
      ]
    },
    "kernelspec": {
      "name": "python3",
      "display_name": "Python 3"
    }
  },
  "cells": [
    {
      "cell_type": "markdown",
      "metadata": {
        "id": "ZZk84yjV4Le-",
        "colab_type": "text"
      },
      "source": [
        "# **SIG AIDA Data Science Workshop**\n",
        "## _Structured Searching with SQL_\n"
      ]
    },
    {
      "cell_type": "markdown",
      "metadata": {
        "id": "nVnXrlJ54eVU",
        "colab_type": "text"
      },
      "source": [
        "# Introduction\n",
        "## What is SQL?\n",
        "\n",
        "SQL stands for Structured Query Language. \n",
        "\n",
        "It is used mainly to interact with \"Relational Database Systems\" and is considered a \"Query Language\". This means that we ask SQL to do things like read from or write to tables. \n"
      ]
    },
    {
      "cell_type": "code",
      "metadata": {
        "id": "cVgiQMnY1c4D",
        "colab_type": "code",
        "cellView": "both",
        "colab": {}
      },
      "source": [
        "#@title Please run this cell for setup! (click on the play button)\n",
        "\n",
        "import pandas as pd\n",
        "\n",
        "\n",
        "conn = sqlite3.connect('example.db')\n",
        "\n",
        "c = conn.cursor()\n",
        "c.execute(\"SELECT name FROM sqlite_master WHERE type='table'\")\n",
        "if len(c.fetchall()) > 0:\n",
        "    c.execute(\"DROP TABLE IF EXISTS uber\")\n",
        "    c.execute(\"DROP TABLE IF EXISTS gpa\")\n",
        "\n",
        "uber_url = \"https://raw.githubusercontent.com/fivethirtyeight/uber-tlc-foil-response/master/Uber-Jan-Feb-FOIL.csv\"\n",
        "uber_data = pd.read_csv(uber_url, index_col=0)\n",
        "uber_data.to_sql('uber', conn)\n",
        "\n",
        "gpa_url = \"https://raw.githubusercontent.com/wadefagen/datasets/master/gpa/uiuc-gpa-dataset.csv\"\n",
        "gpa_data = pd.read_csv(gpa_url, index_col=0)\n",
        "gpa_data.to_sql('gpa', conn)\n",
        "\n",
        "def run_query(query):\n",
        "    return pd.read_sql_query(query, conn)\n",
        "\n",
        "print(\"Setup Complete!\")"
      ],
      "execution_count": null,
      "outputs": []
    },
    {
      "cell_type": "code",
      "metadata": {
        "id": "WPp2j9ga1iL8",
        "colab_type": "code",
        "colab": {}
      },
      "source": [
        "# How to query the DB: a simple get\n",
        "query = \"\"\"\n",
        "           SELECT *\n",
        "           FROM uber\n",
        "        \"\"\"\n",
        "run_query(query)"
      ],
      "execution_count": null,
      "outputs": []
    },
    {
      "cell_type": "markdown",
      "metadata": {
        "id": "c56yxVl3F-44",
        "colab_type": "text"
      },
      "source": [
        "## What did that do?\n",
        "\n",
        "#### We got all rows from a table called _uber_ that had a corresponding date of January 1st, 2015\n",
        "\n",
        "SQL is nice because you can sequentially read what you're telling it to do. Let's break down the query we asked SQL to execute above."
      ]
    },
    {
      "cell_type": "markdown",
      "metadata": {
        "id": "udNIfdHX4hRJ",
        "colab_type": "text"
      },
      "source": [
        "## Some basic keywords"
      ]
    },
    {
      "cell_type": "markdown",
      "metadata": {
        "id": "dQ8W2q30Gr74",
        "colab_type": "text"
      },
      "source": [
        "### `SELECT`\n",
        "We want SQL to _return_ things from a table.\n",
        "\n",
        "What do you want from the table? A number? A list of rows?\n",
        "\n",
        "In SQL, the asterisk * is a wildcard that essentially means \"give me everything\". In the example above, we told SQL to select every column of the rows that matched and return it to us.\n",
        "\n",
        "You can also tell SQL to give you only the values for specific columns (see example below)\n",
        "\n",
        "[W3 Schools tutorial](https://www.w3schools.com/sql/sql_select.asp)\n",
        "\n"
      ]
    },
    {
      "cell_type": "markdown",
      "metadata": {
        "id": "_nXxTYrKJYoR",
        "colab_type": "text"
      },
      "source": [
        "### `FROM`\n",
        "\n",
        "This tells SQL _where_ or _which table_ it should be looking to interact with.\n",
        "\n",
        "You could be working with multiple tables in a single SQL query, SQL needs to know which one(s) to go to.\n",
        "\n",
        "[W3 Schools tutorial](https://www.w3schools.com/sql/sql_from.asp)"
      ]
    },
    {
      "cell_type": "code",
      "metadata": {
        "id": "N-lnz_9G4qDj",
        "colab_type": "code",
        "colab": {}
      },
      "source": [
        "query = \"\"\"\n",
        "           SELECT dispatching_base_number, date, active_vehicles\n",
        "           FROM uber;\n",
        "        \"\"\"\n",
        "run_query(query)"
      ],
      "execution_count": null,
      "outputs": []
    },
    {
      "cell_type": "markdown",
      "metadata": {
        "id": "qLknjBYh4iyR",
        "colab_type": "text"
      },
      "source": [
        "### `WHERE`\n",
        "this tells SQL what _condition_ it should be looking to match in the rows.\n",
        "\n",
        "It's not useful to get every single row in the table, most of the time we're looking for rows that pertain to some date or some person.\n",
        "\n",
        "[W3 Schools tutorial](https://www.w3schools.com/sql/sql_where.asp)"
      ]
    },
    {
      "cell_type": "code",
      "metadata": {
        "id": "LMCgxbH-zXcR",
        "colab_type": "code",
        "colab": {}
      },
      "source": [
        "query = \"\"\"\n",
        "           SELECT dispatching_base_number, date, active_vehicles\n",
        "           FROM uber\n",
        "           WHERE active_vehicles == 0;\n",
        "        \"\"\"\n",
        "run_query(query)"
      ],
      "execution_count": null,
      "outputs": []
    },
    {
      "cell_type": "markdown",
      "metadata": {
        "id": "DEe1FMWw4ko9",
        "colab_type": "text"
      },
      "source": [
        "## Some more advanced keywords\n"
      ]
    },
    {
      "cell_type": "code",
      "metadata": {
        "id": "4OFZexfQH-CJ",
        "colab_type": "code",
        "colab": {}
      },
      "source": [
        "# new dataset!\n",
        "query = \"\"\"\n",
        "        SELECT *\n",
        "        FROM gpa;\n",
        "        \"\"\"\n",
        "run_query(query)"
      ],
      "execution_count": null,
      "outputs": []
    },
    {
      "cell_type": "markdown",
      "metadata": {
        "id": "A6PVLUEa4nk_",
        "colab_type": "text"
      },
      "source": [
        "### `GROUP BY`\n",
        "This tells SQL to limit the results only to a specific group, which can be configured. These make more sense with examples, so we'll go into some here.\n",
        "\n",
        "The below piece of code first groups all of the subjects together (puts all rows with Subject as `AAS` as one row, all rows with Subject as `STAT` as one row, etc.) and then calculates some aggregating function, like `SUM()` in this case.\n",
        "\n",
        "Intuitively, this query will sum up the values of `A+` (which in this case is the number of students who got an A+) for every Subject, then show you the Subject and the sum of A+'s as two columns.\n",
        "\n",
        "[W3 Schools tutorial](https://www.w3schools.com/sql/sql_groupby.asp)\n"
      ]
    },
    {
      "cell_type": "code",
      "metadata": {
        "id": "BksJ2-LZIZJ_",
        "colab_type": "code",
        "colab": {}
      },
      "source": [
        "query = \"\"\"\n",
        "        SELECT Subject, SUM(`A+`)\n",
        "        FROM gpa\n",
        "        GROUP BY Subject;\n",
        "        \"\"\"\n",
        "run_query(query)"
      ],
      "execution_count": null,
      "outputs": []
    },
    {
      "cell_type": "markdown",
      "metadata": {
        "id": "wHhs3n75KMwj",
        "colab_type": "text"
      },
      "source": [
        "### `ORDER BY`\n",
        "This command, as the command name suggests, orders the results by a column. In the query below, we sort the rows by the column `A+` in DESCending order (as opposed to ASCending order).\n",
        "\n",
        "Intuitively, this command sorts the rows by the number of students who received an A+."
      ]
    },
    {
      "cell_type": "code",
      "metadata": {
        "id": "NQJ7_nW8JjUW",
        "colab_type": "code",
        "colab": {}
      },
      "source": [
        "query = \"\"\"\n",
        "        SELECT YearTerm, Subject, Number, `Course Title`, `A+`\n",
        "        FROM gpa\n",
        "        ORDER BY `A+` DESC;\n",
        "        \"\"\"\n",
        "run_query(query)"
      ],
      "execution_count": null,
      "outputs": []
    },
    {
      "cell_type": "markdown",
      "metadata": {
        "id": "beCDuNrKr5NL",
        "colab_type": "text"
      },
      "source": [
        "### `HAVING`\n",
        "This command is the same as the `WHERE` command except only for aggregate functions (such as `SUM`, `AVG`, `COUNT`).\n",
        "\n",
        "The below query will grab all `Subjects` where the number of total `A+`'s given is greater than 100.\n",
        "\n",
        "(Notice that we can't use `WHERE` here because we are using `GROUP BY` and the aggregate function `SUM`)\n",
        "\n",
        "[W3 Schools tutorial](https://www.w3schools.com/sql/sql_having.asp)"
      ]
    },
    {
      "cell_type": "code",
      "metadata": {
        "id": "BcHFPOHwL7f0",
        "colab_type": "code",
        "colab": {}
      },
      "source": [
        "query = \"\"\"\n",
        "        SELECT Subject, SUM(`A+`)\n",
        "        FROM gpa\n",
        "        GROUP BY Subject\n",
        "        HAVING SUM(`A+`) > 100;\n",
        "        \"\"\"\n",
        "run_query(query)"
      ],
      "execution_count": null,
      "outputs": []
    },
    {
      "cell_type": "markdown",
      "metadata": {
        "id": "wqLmjAM95akV",
        "colab_type": "text"
      },
      "source": [
        "### `LIKE`\n",
        "This command will try to match strings in a column based on patterns that you specify.\n",
        "\n",
        "The query below will find all rows where the `Course Title` has the words `\"Machine Learning\"` somewhere within the string.\n",
        "\n",
        "Note: you can specify whether to allow any length of string as a wildcard using `%` or only one character using `_`.\n",
        "\n",
        "[W3 Schools tutorial](https://www.w3schools.com/sql/sql_like.asp)"
      ]
    },
    {
      "cell_type": "code",
      "metadata": {
        "id": "q7wJoF3POpIa",
        "colab_type": "code",
        "colab": {}
      },
      "source": [
        "# example using %\n",
        "# there can be any number of characters before and after the words Machine Learning\n",
        "query = \"\"\"\n",
        "        SELECT YearTerm, Subject, Number, `Course Title`\n",
        "        FROM gpa\n",
        "        WHERE `Course Title`\n",
        "        LIKE '%Machine Learning%'\n",
        "        AND Subject == 'CS'\n",
        "        \"\"\"\n",
        "run_query(query)"
      ],
      "execution_count": null,
      "outputs": []
    },
    {
      "cell_type": "code",
      "metadata": {
        "id": "wt-Xzw6XQF09",
        "colab_type": "code",
        "colab": {}
      },
      "source": [
        "# example using _\n",
        "# the first character can be anything, but the second character must be 'S'\n",
        "query = \"\"\"\n",
        "        SELECT YearTerm, Subject, Number, `Course Title`\n",
        "        FROM gpa\n",
        "        WHERE Subject\n",
        "        LIKE '_S'\n",
        "        \"\"\"\n",
        "run_query(query)"
      ],
      "execution_count": null,
      "outputs": []
    },
    {
      "cell_type": "markdown",
      "metadata": {
        "id": "xyK1WqO2Qlc2",
        "colab_type": "text"
      },
      "source": [
        "# Practice!\n",
        "Now here's a chance for you to practice!"
      ]
    },
    {
      "cell_type": "code",
      "metadata": {
        "id": "pPlIhjDT1cVT",
        "colab_type": "code",
        "cellView": "form",
        "colab": {}
      },
      "source": [
        "#@title Open this for hints (double click me)\n",
        "\n",
        "# Close this cell by double clicking on the right hand side\n",
        "\n",
        "# Hint 1: You can do this by just getting all the rows of the dataset and\n",
        "#   scrolling to the bottom, if you like\n",
        "\n",
        "# Hint 2: Use the WHERE query (look back at the demo)\n",
        "\n",
        "# Hint 3: GROUP BY might come in handy...\n",
        "#   Also look up the list of all aggregate functions you can run on a group:\n",
        "#   'sqlite3 aggregate functions' on Google should help\n",
        "\n",
        "# Hint 4: Figure out which column contains the value you want, and look back at\n",
        "#   the list of queries from above to see if one of them was similar to what\n",
        "#   we want here.\n",
        "#   Also, keep an eye out for what we have to do if a column name contains spaces\n",
        "\n",
        "# Hint 5: GROUP BY... this should be similar to some of the above queries\n",
        "\n",
        "# Hint 6: The aggregate function COUNT could come in handy here.\n",
        "#   If you want to find the number of unique instructors, DISTINCT is a keyword\n",
        "#   that you can use:\n",
        "#     https://www.w3resource.com/sql/aggregate-functions/count-with-distinct.php\n",
        "\n",
        "# Hint 7: How can you get the total number of students in a class?\n",
        "\n",
        "# Hint 8: You can use arithmetic operations in SQL (at least the SQL we're using,\n",
        "#   SQLite3)\n",
        "#   Some helpful reading: https://www.w3resource.com/sqlite/arithmetic-operators.php#:~:text=There%20are%20four%20type%20of,multiplication(*)%20and%20division(%2F).&text=Expression%20made%20up%20of%20a,values%20or%20perform%20arithmetic%20calculations.\n",
        "#   Extra reading: https://www.w3schools.com/sql/sql_operators.asp\n",
        "\n",
        "# Hint 9: "
      ],
      "execution_count": null,
      "outputs": []
    },
    {
      "cell_type": "code",
      "metadata": {
        "id": "zCt3EIL9mUcF",
        "colab_type": "code",
        "colab": {}
      },
      "source": [
        "# Problem 1: Find the last date that is available in the table 'uber'\n",
        "query = \"\"\"\n",
        "        \n",
        "        \"\"\"\n",
        "run_query(query)"
      ],
      "execution_count": null,
      "outputs": []
    },
    {
      "cell_type": "code",
      "metadata": {
        "id": "A8VK5Bjfz-ya",
        "colab_type": "code",
        "colab": {}
      },
      "source": [
        "# Problem 2: Find the dispatching base number with the most active vehicles in the table 'uber' (repeat for trips)\n",
        "query = \"\"\"\n",
        "\n",
        "        \"\"\"\n",
        "run_query(query)"
      ],
      "execution_count": null,
      "outputs": []
    },
    {
      "cell_type": "code",
      "metadata": {
        "id": "uQSi2vle0UHN",
        "colab_type": "code",
        "colab": {}
      },
      "source": [
        "# Problem 3: Find the date with the most amount of active vehicles in the table 'uber' (repeat for trips)\n",
        "query = \"\"\"\n",
        "\n",
        "        \"\"\"\n",
        "run_query(query)"
      ],
      "execution_count": null,
      "outputs": []
    },
    {
      "cell_type": "code",
      "metadata": {
        "id": "4FUoXCNn0eGf",
        "colab_type": "code",
        "colab": {}
      },
      "source": [
        "# Problem 4: Find a class you've taken on campus before in the table 'gpa'\n",
        "# If you haven't taken a class before Fall 2019, then find a class you want to take!\n",
        "query = \"\"\"\n",
        "\n",
        "        \"\"\"\n",
        "run_query(query)"
      ],
      "execution_count": null,
      "outputs": []
    },
    {
      "cell_type": "code",
      "metadata": {
        "id": "YcY1CLNf05g0",
        "colab_type": "code",
        "colab": {}
      },
      "source": [
        "# Problem 5: Find the instructor with the highest number of A's given in the table 'gpa'\n",
        "# You can modify this for whatever grade you want to look at\n",
        "query = \"\"\"\n",
        "\n",
        "        \"\"\"\n",
        "run_query(query)"
      ],
      "execution_count": null,
      "outputs": []
    },
    {
      "cell_type": "code",
      "metadata": {
        "id": "UgnbeOSz5fuo",
        "colab_type": "code",
        "colab": {}
      },
      "source": [
        "# Problem 6: Find the department with the most number of instructors in the table 'gpa'\n",
        "query = \"\"\"\n",
        "\n",
        "        \"\"\"\n",
        "run_query(query)"
      ],
      "execution_count": null,
      "outputs": []
    },
    {
      "cell_type": "code",
      "metadata": {
        "id": "vRo00b9O1Gva",
        "colab_type": "code",
        "colab": {}
      },
      "source": [
        "# Problem 7: Find the class with the most number of people in the table 'gpa'\n",
        "query = \"\"\"\n",
        "\n",
        "        \"\"\"\n",
        "run_query(query)"
      ],
      "execution_count": null,
      "outputs": []
    },
    {
      "cell_type": "code",
      "metadata": {
        "id": "66rlhntD3s4G",
        "colab_type": "code",
        "colab": {}
      },
      "source": [
        "# Problem 8: Find a GPA for each class in the table 'gpa'\n",
        "#   Additional problem: now find the class with the highest GPA\n",
        "query = \"\"\"\n",
        "\n",
        "        \"\"\"\n",
        "run_query(query)"
      ],
      "execution_count": null,
      "outputs": []
    },
    {
      "cell_type": "code",
      "metadata": {
        "id": "n5cnimmW4t7f",
        "colab_type": "code",
        "colab": {}
      },
      "source": [
        "# Problem 9: Find the department with the highest GPA in the table 'gpa'\n",
        "#   Additional problem: semester with the higest GPA?\n",
        "query = \"\"\"\n",
        "\n",
        "        \"\"\"\n",
        "run_query(query)"
      ],
      "execution_count": null,
      "outputs": []
    },
    {
      "cell_type": "code",
      "metadata": {
        "id": "qp17hlk147l2",
        "colab_type": "code",
        "colab": {}
      },
      "source": [
        "# Problem 10: Explore this dataset to your heart's content! Tell us if you find\n",
        "#   anything interesting!\n",
        "query = \"\"\"\n",
        "\n",
        "        \"\"\"\n",
        "run_query(query)"
      ],
      "execution_count": null,
      "outputs": []
    },
    {
      "cell_type": "markdown",
      "metadata": {
        "id": "q077o1DRZ9Ni",
        "colab_type": "text"
      },
      "source": [
        "\n",
        "# More!\n",
        "\n",
        "## `JOIN`\n",
        "What if you have content in separate tables that you want to \"join\" together? For example, you have one table that contains weather data for each day of the year, while another table has the number of Uber rides that were requested that day. If we want to do some analysis on Uber ridership in relation to the weather, then we would need to \"join\" the two datasets via the date (find all rows where the specific date exists in both datasets and combine all the columns). This operation is called a \"join\", and there are many different types.\n",
        "\n",
        "Read more about them here: [W3 Schools SQL Join](https://www.w3schools.com/sql/sql_join.asp)\n",
        "\n",
        "## Inserting into a dataset\n",
        "We only dealt with queries today, but a database has to have a way we can insert content into it. There are `INSERT` commands as well as `CREATE TABLE` commands to, as the commands say, insert content and create new tables. Using SQL through another programming language can allow us to create and maintain databases!\n",
        "\n",
        "## SQL Injections\n",
        "You may have heard of this before. This is a security concept, but the basic idea is that for websites that use SQL to ask for something to display, the website might not do a good enough job making sure that the input to their website is actually valid SQL. Nothing is stopping a person from writing just `;` as a query to their database, which could mess up the website's code.\n",
        "\n",
        "Since this is talking about hacking, there is a necessary disclaimer here that we do not condone any illegal activity like stealing information or ruining websites. For this sake, there are small sandboxed environments where you can safely explore concepts such as this, called Capture the Flag (CTF) challenges.\n",
        "\n",
        "[Medium Article explaining SQL injections](https://medium.com/@TurtledCoder/ctflearn-com-basic-injection-4dc5114e911c)\n",
        "\n",
        "If you want to skip straight to the challenge: [CTFlearn](https://ctflearn.com/challenge/88)"
      ]
    }
  ]
}