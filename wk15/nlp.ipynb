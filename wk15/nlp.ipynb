{
 "cells": [
  {
   "cell_type": "markdown",
   "metadata": {},
   "source": [
    "# AIDA Data Science Workshop #13\n",
    "\n",
    "## Concepts Taught\n",
    "- Bonus Topic this week: Natural Language Processing\n",
    "- What is NLP?\n",
    "- Why use NLP?\n",
    "- Types of NLP algorithms\n",
    "- Example: NLPFA18 project: sentiment analysis\n",
    "- Python libraries\n",
    "- Go practice!\n",
    "- Go check out SIGNLL!"
   ]
  },
  {
   "cell_type": "code",
   "execution_count": null,
   "metadata": {},
   "outputs": [],
   "source": []
  }
 ],
 "metadata": {
  "kernelspec": {
   "display_name": "Python 3.7.3",
   "language": "python",
   "name": "python3.7.3"
  },
  "language_info": {
   "codemirror_mode": {
    "name": "ipython",
    "version": 3
   },
   "file_extension": ".py",
   "mimetype": "text/x-python",
   "name": "python",
   "nbconvert_exporter": "python",
   "pygments_lexer": "ipython3",
   "version": "3.7.6"
  }
 },
 "nbformat": 4,
 "nbformat_minor": 4
}
